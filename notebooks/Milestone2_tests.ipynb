{
 "cells": [
  {
   "cell_type": "markdown",
   "metadata": {},
   "source": [
    "# Évaluer sur l'ensemble de test (10 %) "
   ]
  },
  {
   "cell_type": "code",
   "execution_count": 61,
   "metadata": {},
   "outputs": [],
   "source": [
    "from comet_ml import API\n",
    "import joblib"
   ]
  },
  {
   "cell_type": "code",
   "execution_count": 62,
   "metadata": {},
   "outputs": [],
   "source": [
    "from dotenv import load_dotenv\n",
    "import os\n",
    "import pandas as pd\n",
    "import numpy as np\n",
    "from plots import * "
   ]
  },
  {
   "cell_type": "markdown",
   "metadata": {},
   "source": [
    "### Loading models"
   ]
  },
  {
   "cell_type": "code",
   "execution_count": 63,
   "metadata": {},
   "outputs": [],
   "source": [
    "load_dotenv(r\".env\")\n",
    "comet_api_key = os.environ.get('COMET_API_KEY')"
   ]
  },
  {
   "cell_type": "code",
   "execution_count": 115,
   "metadata": {},
   "outputs": [],
   "source": [
    "api = API(api_key=comet_api_key)\n",
    "\n",
    "#get the Model object\n",
    "model_reg_logist_1 = api.get_model(workspace=\"ift6758-a02\", model_name='reg_logistique_angle')\n",
    "model_reg_logist_2 = api.get_model(workspace=\"ift6758-a02\", model_name='reg_logistique-distance')\n",
    "model_reg_logist_3 = api.get_model(workspace=\"ift6758-a02\", model_name='reg_logistique_dist_angle')\n",
    "model_xgb = api.get_model(workspace=\"ift6758-a02\", model_name='best-xgboost-model')\n",
    "model_forest = api.get_model(workspace=\"ift6758-a02\", model_name='mod-le-for-t-al-atoire-original')\n",
    "\n",
    "#Download a Registry Model:\n",
    "model_reg_logist_1.download(\"1.0.0\", expand=True)\n",
    "model_reg_logist_2.download(\"1.0.0\", expand=True)\n",
    "model_reg_logist_3.download(\"1.0.0\", expand=True)\n",
    "model_xgb.download(\"1.0.0\", expand=True)\n",
    "model_forest.download(\"1.0.0\", expand=True)"
   ]
  },
  {
   "cell_type": "code",
   "execution_count": 117,
   "metadata": {},
   "outputs": [],
   "source": [
    "loaded_model_reg_logist_1 = joblib.load('None/logistic_angle.pkl')\n",
    "loaded_model_reg_logist_2 = joblib.load('None/logistic_distance.pkl')\n",
    "loaded_model_reg_logist_3 = joblib.load('None/logistic_distance_angle.pkl')\n",
    "loaded_model_xgb = joblib.load('None/best_XGBoost_all_features.json')\n",
    "loaded_model_forest = joblib.load('None/random_forest_origin.pkl')"
   ]
  },
  {
   "cell_type": "markdown",
   "metadata": {},
   "source": [
    "### Loading data"
   ]
  },
  {
   "cell_type": "code",
   "execution_count": 118,
   "metadata": {},
   "outputs": [],
   "source": [
    "data_path = os.environ.get('DATA_DIR')"
   ]
  },
  {
   "cell_type": "code",
   "execution_count": 119,
   "metadata": {},
   "outputs": [],
   "source": [
    "test_data_path = data_path+\"\\\\nhl_data_2020_previous_v2_0.csv\"\n",
    "test_data=pd.read_csv(test_data_path)"
   ]
  },
  {
   "cell_type": "code",
   "execution_count": null,
   "metadata": {},
   "outputs": [],
   "source": [
    "#essaie 2\n",
    "test_data = pd.read_csv(data_path+\"\\\\nhl_data_2020_previous.csv\")\n",
    "adv_data = pd.read_csv(data_path+\"\\\\nhl_2020_adv.csv\")\n",
    "\n",
    "#clean up de df\n",
    "test_data.dropna(inplace=True)\n",
    "test_data = test_data.replace([np.inf, -np.inf], np.nan).dropna()\n",
    "dummy_object = pd.get_dummies(test_data[['typeDeTir', 'previousEventTypeId']])\n",
    "data = test_data.merge(dummy_object, left_index=True, right_index=True)\n",
    "test_data_fin = data.drop(labels = ['typeDeTir', 'previousEventTypeId'], axis = 1)\n",
    "\n",
    "#clean up de df\n",
    "adv_data.dropna(inplace=True)\n",
    "adv_data = adv_data.replace([np.inf, -np.inf], np.nan).dropna()\n",
    "dummy_object = pd.get_dummies(adv_data[['typeDeTir', 'previousEventTypeId']])\n",
    "data = adv_data.merge(dummy_object, left_index=True, right_index=True)\n",
    "adv_data_fin = data.drop(labels = ['typeDeTir', 'previousEventTypeId'], axis = 1)\n",
    "\n",
    "#création d'ensemble de test\n",
    "X_test_angle = test_data_fin[['relativeAngleToNet']]\n",
    "X_test_dist = test_data_fin[['distanceToNet']]\n",
    "X_test_dist_angle = test_data_fin[['distanceToNet','relativeAngleToNet']]\n",
    "X_test_total = test_data_fin.drop('isGoal', axis=1)\n",
    "y_test = test_data_fin['isGoal']\n",
    "X_test_adv = adv_data_fin.drop('isGoal', axis=1) \n",
    "y_test_adv = adv_data_fin['isGoal']\n",
    "\n",
    "#loading de model\n",
    "y_pred_reg_log_1 = loaded_model_reg_logist_1.predict(X_test_angle.values.reshape(-1,1))\n",
    "y_pred_reg_log_2 = loaded_model_reg_logist_2.predict(X_test_dist.values.reshape(-1,1))\n",
    "y_pred_reg_log_3 = loaded_model_reg_logist_3.predict(X_test_dist_angle.values.reshape(-1,2))\n",
    "y_pred_xgb = loaded_model_xgb.predict(X_test_total)\n",
    "y_pred_forest = loaded_model_forest.predict(X_test_adv)\n",
    "\n",
    "models = [loaded_model_reg_logist_1, loaded_model_reg_logist_2, loaded_model_reg_logist_3, loaded_model_xgb, loaded_model_forest, None]\n",
    "X_list = [X_test_angle, X_test_dist, X_test_dist_angle, X_test_total, X_test_adv, None]\n",
    "y_list = [y_test, y_test, y_test, y_test, y_test_adv, None]\n",
    "nom_models = ['reg_logistique_angle', 'reg_logistique-distance', 'reg_logistique_dist_angle', 'best-xgboost-model', 'Forest Model' , 'Random Model' ]\n",
    "\n",
    "plot_roc_auc(models, X_list, y_list, nom_models)"
   ]
  },
  {
   "cell_type": "code",
   "execution_count": null,
   "metadata": {},
   "outputs": [],
   "source": [
    "plot_taux_buts_par_centile(models, X_list, y_list, nom_models)"
   ]
  },
  {
   "cell_type": "code",
   "execution_count": null,
   "metadata": {},
   "outputs": [],
   "source": [
    "cumulative_goal_rate(models, X_list, y_list, nom_models)"
   ]
  },
  {
   "cell_type": "code",
   "execution_count": null,
   "metadata": {},
   "outputs": [],
   "source": [
    "plot_calibration_curve(models, X_list, y_list, nom_models)"
   ]
  },
  {
   "cell_type": "markdown",
   "metadata": {},
   "source": [
    "# New Section Saison éliminatoire"
   ]
  },
  {
   "cell_type": "code",
   "execution_count": null,
   "metadata": {},
   "outputs": [],
   "source": [
    "#essaie 2\n",
    "test_data = pd.read_csv(data_path+\"\\\\nhl_data_2020_previousELIMINATOIRE.csv\")\n",
    "adv_data = pd.read_csv(data_path+\"\\\\nhl_2020_advELIMINATOIRE.csv\")\n",
    "\n",
    "#clean up de df\n",
    "test_data.dropna(inplace=True)\n",
    "test_data = test_data.replace([np.inf, -np.inf], np.nan).dropna()\n",
    "dummy_object = pd.get_dummies(test_data[['typeDeTir', 'previousEventTypeId']])\n",
    "data = test_data.merge(dummy_object, left_index=True, right_index=True)\n",
    "test_data_fin = data.drop(labels = ['typeDeTir', 'previousEventTypeId'], axis = 1)\n",
    "\n",
    "#clean up de df\n",
    "adv_data.dropna(inplace=True)\n",
    "adv_data = adv_data.replace([np.inf, -np.inf], np.nan).dropna()\n",
    "dummy_object = pd.get_dummies(adv_data[['typeDeTir', 'previousEventTypeId']])\n",
    "data = adv_data.merge(dummy_object, left_index=True, right_index=True)\n",
    "adv_data_fin = data.drop(labels = ['typeDeTir', 'previousEventTypeId'], axis = 1)\n",
    "\n",
    "#création d'ensemble de test\n",
    "X_test_angle = test_data_fin[['relativeAngleToNet']]\n",
    "X_test_dist = test_data_fin[['distanceToNet']]\n",
    "X_test_dist_angle = test_data_fin[['distanceToNet','relativeAngleToNet']]\n",
    "X_test_total = test_data_fin.drop('isGoal', axis=1)\n",
    "y_test = test_data_fin['isGoal']\n",
    "X_test_adv = adv_data_fin.drop('isGoal', axis=1) \n",
    "y_test_adv = adv_data_fin['isGoal']\n",
    "\n",
    "#loading de model\n",
    "y_pred_reg_log_1 = loaded_model_reg_logist_1.predict(X_test_angle.values.reshape(-1,1))\n",
    "y_pred_reg_log_2 = loaded_model_reg_logist_2.predict(X_test_dist.values.reshape(-1,1))\n",
    "y_pred_reg_log_3 = loaded_model_reg_logist_3.predict(X_test_dist_angle.values.reshape(-1,2))\n",
    "y_pred_xgb = loaded_model_xgb.predict(X_test_total)\n",
    "y_pred_forest = loaded_model_forest.predict(X_test_adv)\n",
    "\n",
    "models = [loaded_model_reg_logist_1, loaded_model_reg_logist_2, loaded_model_reg_logist_3, loaded_model_xgb, loaded_model_forest, None]\n",
    "X_list = [X_test_angle, X_test_dist, X_test_dist_angle, X_test_total, X_test_adv, None]\n",
    "y_list = [y_test, y_test, y_test, y_test, y_test_adv, None]\n",
    "nom_models = ['reg_logistique_angle', 'reg_logistique-distance', 'reg_logistique_dist_angle', 'best-xgboost-model', 'Forest Model' , 'Random Model' ]\n",
    "\n",
    "plot_roc_auc(models, X_list, y_list, nom_models)"
   ]
  },
  {
   "cell_type": "code",
   "execution_count": null,
   "metadata": {},
   "outputs": [],
   "source": [
    "plot_taux_buts_par_centile(models, X_list, y_list, nom_models)"
   ]
  },
  {
   "cell_type": "code",
   "execution_count": null,
   "metadata": {},
   "outputs": [],
   "source": [
    "cumulative_goal_rate(models, X_list, y_list, nom_models)"
   ]
  },
  {
   "cell_type": "code",
   "execution_count": null,
   "metadata": {},
   "outputs": [],
   "source": [
    "plot_calibration_curve(models, X_list, y_list, nom_models)"
   ]
  }
 ],
 "metadata": {
  "kernelspec": {
   "display_name": "Python 3.11.5 ('ift6758')",
   "language": "python",
   "name": "python3"
  },
  "language_info": {
   "codemirror_mode": {
    "name": "ipython",
    "version": 3
   },
   "file_extension": ".py",
   "mimetype": "text/x-python",
   "name": "python",
   "nbconvert_exporter": "python",
   "pygments_lexer": "ipython3",
   "version": "3.11.5"
  },
  "orig_nbformat": 4,
  "vscode": {
   "interpreter": {
    "hash": "76f24fe593248544fb53c45860141e2f5868563163d477b8bfa09ccbbd1149dc"
   }
  }
 },
 "nbformat": 4,
 "nbformat_minor": 2
}
