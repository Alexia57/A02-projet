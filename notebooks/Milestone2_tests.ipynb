{
 "cells": [
  {
   "cell_type": "markdown",
   "metadata": {},
   "source": [
    "# Évaluer sur l'ensemble de test (10 %) "
   ]
  },
  {
   "cell_type": "code",
   "execution_count": 61,
   "metadata": {},
   "outputs": [],
   "source": [
    "from comet_ml import API\n",
    "import joblib"
   ]
  },
  {
   "cell_type": "code",
   "execution_count": 62,
   "metadata": {},
   "outputs": [],
   "source": [
    "from dotenv import load_dotenv\n",
    "import os\n",
    "import pandas as pd\n",
    "import numpy as np\n",
    "from plots import * "
   ]
  },
  {
   "cell_type": "markdown",
   "metadata": {},
   "source": [
    "### Loading models"
   ]
  },
  {
   "cell_type": "code",
   "execution_count": 63,
   "metadata": {},
   "outputs": [],
   "source": [
    "load_dotenv(r\".env\")\n",
    "comet_api_key = os.environ.get('COMET_API_KEY')"
   ]
  },
  {
   "cell_type": "code",
   "execution_count": 115,
   "metadata": {},
   "outputs": [],
   "source": [
    "api = API(api_key=comet_api_key)\n",
    "\n",
    "#get the Model object\n",
    "model_reg_logist_1 = api.get_model(workspace=\"ift6758-a02\", model_name='reg_logistique_angle')\n",
    "model_reg_logist_2 = api.get_model(workspace=\"ift6758-a02\", model_name='reg_logistique-distance')\n",
    "model_reg_logist_3 = api.get_model(workspace=\"ift6758-a02\", model_name='reg_logistique_dist_angle')\n",
    "model_xgb = api.get_model(workspace=\"ift6758-a02\", model_name='best-xgboost-model')\n",
    "model_forest = api.get_model(workspace=\"ift6758-a02\", model_name='mod-le-for-t-al-atoire-original')\n",
    "\n",
    "#Download a Registry Model:\n",
    "model_reg_logist_1.download(\"1.0.0\", expand=True)\n",
    "model_reg_logist_2.download(\"1.0.0\", expand=True)\n",
    "model_reg_logist_3.download(\"1.0.0\", expand=True)\n",
    "model_xgb.download(\"1.0.0\", expand=True)\n",
    "model_forest.download(\"1.0.0\", expand=True)"
   ]
  },
  {
   "cell_type": "code",
   "execution_count": 117,
   "metadata": {},
   "outputs": [],
   "source": [
    "loaded_model_reg_logist_1 = joblib.load('None/logistic_angle.pkl')\n",
    "loaded_model_reg_logist_2 = joblib.load('None/logistic_distance.pkl')\n",
    "loaded_model_reg_logist_3 = joblib.load('None/logistic_distance_angle.pkl')\n",
    "loaded_model_xgb = joblib.load('None/best_XGBoost_all_features.json')\n",
    "loaded_model_forest = joblib.load('None/random_forest_origin.pkl')"
   ]
  },
  {
   "cell_type": "markdown",
   "metadata": {},
   "source": [
    "### Loading data"
   ]
  },
  {
   "cell_type": "code",
   "execution_count": 118,
   "metadata": {},
   "outputs": [],
   "source": [
    "data_path = os.environ.get('DATA_DIR')"
   ]
  },
  {
   "cell_type": "code",
   "execution_count": 119,
   "metadata": {},
   "outputs": [],
   "source": [
    "test_data_path = data_path+\"\\\\nhl_data_2020_previous_v2_0.csv\"\n",
    "test_data=pd.read_csv(test_data_path)"
   ]
  },
  {
   "cell_type": "code",
   "execution_count": 120,
   "metadata": {},
   "outputs": [
    {
     "data": {
      "text/html": [
       "<div>\n",
       "<style scoped>\n",
       "    .dataframe tbody tr th:only-of-type {\n",
       "        vertical-align: middle;\n",
       "    }\n",
       "\n",
       "    .dataframe tbody tr th {\n",
       "        vertical-align: top;\n",
       "    }\n",
       "\n",
       "    .dataframe thead th {\n",
       "        text-align: right;\n",
       "    }\n",
       "</style>\n",
       "<table border=\"1\" class=\"dataframe\">\n",
       "  <thead>\n",
       "    <tr style=\"text-align: right;\">\n",
       "      <th></th>\n",
       "      <th>period</th>\n",
       "      <th>periodTimeInSeconds</th>\n",
       "      <th>isGoal</th>\n",
       "      <th>typeDeTir</th>\n",
       "      <th>x</th>\n",
       "      <th>y</th>\n",
       "      <th>distanceToNet</th>\n",
       "      <th>relativeAngleToNet</th>\n",
       "      <th>previousEventTypeId</th>\n",
       "      <th>previousX</th>\n",
       "      <th>previousY</th>\n",
       "      <th>distanceFromPrevious</th>\n",
       "      <th>timeDiff</th>\n",
       "      <th>rebond</th>\n",
       "      <th>angleChange</th>\n",
       "      <th>vitesse</th>\n",
       "      <th>season</th>\n",
       "    </tr>\n",
       "  </thead>\n",
       "  <tbody>\n",
       "    <tr>\n",
       "      <th>25869</th>\n",
       "      <td>1</td>\n",
       "      <td>250</td>\n",
       "      <td>0</td>\n",
       "      <td>Backhand</td>\n",
       "      <td>40.0</td>\n",
       "      <td>31.0</td>\n",
       "      <td>58.830264</td>\n",
       "      <td>13.412358</td>\n",
       "      <td>FACEOFF</td>\n",
       "      <td>0.0</td>\n",
       "      <td>0.0</td>\n",
       "      <td>50.61</td>\n",
       "      <td>29</td>\n",
       "      <td>False</td>\n",
       "      <td>0.000000</td>\n",
       "      <td>1.745172</td>\n",
       "      <td>2020</td>\n",
       "    </tr>\n",
       "    <tr>\n",
       "      <th>39811</th>\n",
       "      <td>3</td>\n",
       "      <td>934</td>\n",
       "      <td>0</td>\n",
       "      <td>Wrist Shot</td>\n",
       "      <td>-88.0</td>\n",
       "      <td>-5.0</td>\n",
       "      <td>5.385165</td>\n",
       "      <td>-68.198591</td>\n",
       "      <td>SHOT</td>\n",
       "      <td>-83.0</td>\n",
       "      <td>-4.0</td>\n",
       "      <td>5.10</td>\n",
       "      <td>1</td>\n",
       "      <td>True</td>\n",
       "      <td>38.453709</td>\n",
       "      <td>5.100000</td>\n",
       "      <td>2020</td>\n",
       "    </tr>\n",
       "    <tr>\n",
       "      <th>42110</th>\n",
       "      <td>4</td>\n",
       "      <td>79</td>\n",
       "      <td>1</td>\n",
       "      <td>Wrist Shot</td>\n",
       "      <td>59.0</td>\n",
       "      <td>10.0</td>\n",
       "      <td>32.572995</td>\n",
       "      <td>3.839596</td>\n",
       "      <td>PERIOD_END</td>\n",
       "      <td>NaN</td>\n",
       "      <td>NaN</td>\n",
       "      <td>NaN</td>\n",
       "      <td>0</td>\n",
       "      <td>False</td>\n",
       "      <td>0.000000</td>\n",
       "      <td>NaN</td>\n",
       "      <td>2020</td>\n",
       "    </tr>\n",
       "  </tbody>\n",
       "</table>\n",
       "</div>"
      ],
      "text/plain": [
       "       period  periodTimeInSeconds  isGoal   typeDeTir     x     y  \\\n",
       "25869       1                  250       0    Backhand  40.0  31.0   \n",
       "39811       3                  934       0  Wrist Shot -88.0  -5.0   \n",
       "42110       4                   79       1  Wrist Shot  59.0  10.0   \n",
       "\n",
       "       distanceToNet  relativeAngleToNet previousEventTypeId  previousX  \\\n",
       "25869      58.830264           13.412358             FACEOFF        0.0   \n",
       "39811       5.385165          -68.198591                SHOT      -83.0   \n",
       "42110      32.572995            3.839596          PERIOD_END        NaN   \n",
       "\n",
       "       previousY  distanceFromPrevious  timeDiff  rebond  angleChange  \\\n",
       "25869        0.0                 50.61        29   False     0.000000   \n",
       "39811       -4.0                  5.10         1    True    38.453709   \n",
       "42110        NaN                   NaN         0   False     0.000000   \n",
       "\n",
       "        vitesse  season  \n",
       "25869  1.745172    2020  \n",
       "39811  5.100000    2020  \n",
       "42110       NaN    2020  "
      ]
     },
     "execution_count": 120,
     "metadata": {},
     "output_type": "execute_result"
    }
   ],
   "source": [
    "test_data.sample(3)"
   ]
  },
  {
   "cell_type": "code",
   "execution_count": 121,
   "metadata": {},
   "outputs": [],
   "source": [
    "test_data.dropna(inplace=True)\n",
    "test_data = test_data.replace([np.inf, -np.inf], np.nan).dropna()"
   ]
  },
  {
   "cell_type": "code",
   "execution_count": 122,
   "metadata": {},
   "outputs": [],
   "source": [
    "dummy_object = pd.get_dummies(test_data[['typeDeTir', 'previousEventTypeId']])\n",
    "data = test_data.merge(dummy_object, left_index=True, right_index=True)\n",
    "test_data_fin = data.drop(labels = ['typeDeTir', 'previousEventTypeId'], axis = 1)"
   ]
  },
  {
   "cell_type": "code",
   "execution_count": 130,
   "metadata": {},
   "outputs": [],
   "source": [
    "X_test_angle = test_data_fin[['relativeAngleToNet']]\n",
    "X_test_dist = test_data_fin[['distanceToNet']]\n",
    "X_test_dist_angle = test_data_fin[['distanceToNet','relativeAngleToNet']]\n",
    "X_test_total = test_data_fin.drop('isGoal', axis=1) \n",
    "y_test = test_data_fin['isGoal']"
   ]
  },
  {
   "cell_type": "code",
   "execution_count": 132,
   "metadata": {},
   "outputs": [
    {
     "name": "stderr",
     "output_type": "stream",
     "text": [
      "c:\\Users\\Prevot\\anaconda3\\envs\\ift6758\\Lib\\site-packages\\sklearn\\base.py:439: UserWarning: X does not have valid feature names, but LogisticRegression was fitted with feature names\n",
      "  warnings.warn(\n",
      "c:\\Users\\Prevot\\anaconda3\\envs\\ift6758\\Lib\\site-packages\\sklearn\\base.py:439: UserWarning: X does not have valid feature names, but LogisticRegression was fitted with feature names\n",
      "  warnings.warn(\n",
      "c:\\Users\\Prevot\\anaconda3\\envs\\ift6758\\Lib\\site-packages\\sklearn\\base.py:439: UserWarning: X does not have valid feature names, but LogisticRegression was fitted with feature names\n",
      "  warnings.warn(\n"
     ]
    }
   ],
   "source": [
    "y_pred_reg_log_1 = loaded_model_reg_logist_1.predict(X_test_angle.values.reshape(-1,1))\n",
    "y_pred_reg_log_2 = loaded_model_reg_logist_2.predict(X_test_dist.values.reshape(-1,1))\n",
    "y_pred_reg_log_3 = loaded_model_reg_logist_3.predict(X_test_dist_angle.values.reshape(-1,2))\n",
    "y_pred_xgb = loaded_model_xgb.predict(X_test_total)"
   ]
  },
  {
   "cell_type": "code",
   "execution_count": 133,
   "metadata": {},
   "outputs": [
    {
     "name": "stdout",
     "output_type": "stream",
     "text": [
      "[0 0 0 ... 0 0 0]\n",
      "[0 0 0 ... 0 0 0]\n",
      "[0 0 0 ... 0 0 0]\n",
      "[0 0 0 ... 0 0 0]\n"
     ]
    }
   ],
   "source": [
    "print(y_pred_reg_log_1)\n",
    "print(y_pred_reg_log_2)\n",
    "print(y_pred_reg_log_3)\n",
    "print(y_pred_xgb)"
   ]
  },
  {
   "cell_type": "code",
   "execution_count": null,
   "metadata": {},
   "outputs": [],
   "source": [
    "models = [loaded_model_reg_logist_1, loaded_model_reg_logist_2, loaded_model_reg_logist_3, loaded_model_xgb, None]\n",
    "X_list = [X_test_angle, X_test_dist, X_test_dist_angle, X_test_total, None]\n",
    "y_list = [y_test, y_test, y_test, y_test, None]\n",
    "nom_models = ['reg_logistique_angle', 'reg_logistique-distance', 'reg_logistique_dist_angle', 'best-xgboost-model', 'Random Model' ]\n",
    "\n",
    "plot_roc_auc(models, X_list, y_list, nom_models)"
   ]
  },
  {
   "cell_type": "code",
   "execution_count": null,
   "metadata": {},
   "outputs": [],
   "source": [
    "plot_taux_buts_par_centile(models, X_list, y_list, nom_models)"
   ]
  },
  {
   "cell_type": "code",
   "execution_count": null,
   "metadata": {},
   "outputs": [],
   "source": [
    "cumulative_goal_rate(models, X_list, y_list, nom_models)"
   ]
  },
  {
   "cell_type": "code",
   "execution_count": null,
   "metadata": {},
   "outputs": [],
   "source": [
    "plot_calibration_curve(models, X_list, y_list, nom_models)"
   ]
  },
  {
   "cell_type": "markdown",
   "metadata": {},
   "source": [
    "# New Section Saison éliminatoire"
   ]
  },
  {
   "cell_type": "code",
   "execution_count": null,
   "metadata": {},
   "outputs": [],
   "source": [
    "#essaie 2\n",
    "test_data = pd.read_csv('/content/data/nhl_2020_prevELIMINATOIRE.csv')\n",
    "adv_data = pd.read_csv('/content/drive/MyDrive/NHL2/nhl_2020_adv.csv')\n",
    "\n",
    "#clean up de df\n",
    "test_data.dropna(inplace=True)\n",
    "test_data = test_data.replace([np.inf, -np.inf], np.nan).dropna()\n",
    "dummy_object = pd.get_dummies(test_data[['typeDeTir', 'previousEventTypeId']])\n",
    "data = test_data.merge(dummy_object, left_index=True, right_index=True)\n",
    "test_data_fin = data.drop(labels = ['typeDeTir', 'previousEventTypeId'], axis = 1)\n",
    "\n",
    "#clean up de df\n",
    "adv_data.dropna(inplace=True)\n",
    "adv_data = adv_data.replace([np.inf, -np.inf], np.nan).dropna()\n",
    "dummy_object = pd.get_dummies(adv_data[['typeDeTir', 'previousEventTypeId']])\n",
    "data = adv_data.merge(dummy_object, left_index=True, right_index=True)\n",
    "adv_data_fin = data.drop(labels = ['typeDeTir', 'previousEventTypeId'], axis = 1)\n",
    "\n",
    "#création d'ensemble de test\n",
    "X_test_angle = test_data_fin[['relativeAngleToNet']]\n",
    "X_test_dist = test_data_fin[['distanceToNet']]\n",
    "X_test_dist_angle = test_data_fin[['distanceToNet','relativeAngleToNet']]\n",
    "X_test_total = test_data_fin.drop('isGoal', axis=1)\n",
    "y_test = test_data_fin['isGoal']\n",
    "X_test_adv = adv_data_fin.drop('isGoal', axis=1) \n",
    "y_test_adv = adv_data_fin['isGoal']\n",
    "\n",
    "#loading de model\n",
    "y_pred_reg_log_1 = loaded_model_reg_logist_1.predict(X_test_angle.values.reshape(-1,1))\n",
    "y_pred_reg_log_2 = loaded_model_reg_logist_2.predict(X_test_dist.values.reshape(-1,1))\n",
    "y_pred_reg_log_3 = loaded_model_reg_logist_3.predict(X_test_dist_angle.values.reshape(-1,2))\n",
    "y_pred_xgb = loaded_model_xgb.predict(X_test_total)\n",
    "y_pred_forest = loaded_model_forest.predict(X_test_adv)\n",
    "\n",
    "models = [loaded_model_reg_logist_1, loaded_model_reg_logist_2, loaded_model_reg_logist_3, loaded_model_xgb, loaded_model_forest, None]\n",
    "X_list = [X_test_angle, X_test_dist, X_test_dist_angle, X_test_total, X_test_adv, None]\n",
    "y_list = [y_test, y_test, y_test, y_test, y_test_adv, None]\n",
    "nom_models = ['reg_logistique_angle', 'reg_logistique-distance', 'reg_logistique_dist_angle', 'best-xgboost-model', 'Forest Model' , 'Random Model' ]\n",
    "\n",
    "plot_roc_auc(models, X_list, y_list, nom_models)"
   ]
  },
  {
   "cell_type": "code",
   "execution_count": null,
   "metadata": {},
   "outputs": [],
   "source": [
    "plot_taux_buts_par_centile(models, X_list, y_list, nom_models)"
   ]
  },
  {
   "cell_type": "code",
   "execution_count": null,
   "metadata": {},
   "outputs": [],
   "source": [
    "cumulative_goal_rate(models, X_list, y_list, nom_models)"
   ]
  },
  {
   "cell_type": "code",
   "execution_count": null,
   "metadata": {},
   "outputs": [],
   "source": [
    "plot_calibration_curve(models, X_list, y_list, nom_models)"
   ]
  }
 ],
 "metadata": {
  "kernelspec": {
   "display_name": "Python 3.11.5 ('ift6758')",
   "language": "python",
   "name": "python3"
  },
  "language_info": {
   "codemirror_mode": {
    "name": "ipython",
    "version": 3
   },
   "file_extension": ".py",
   "mimetype": "text/x-python",
   "name": "python",
   "nbconvert_exporter": "python",
   "pygments_lexer": "ipython3",
   "version": "3.9.13"
  },
  "orig_nbformat": 4,
  "vscode": {
   "interpreter": {
    "hash": "76f24fe593248544fb53c45860141e2f5868563163d477b8bfa09ccbbd1149dc"
   }
  }
 },
 "nbformat": 4,
 "nbformat_minor": 2
}
