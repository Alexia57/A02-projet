{
 "cells": [
  {
   "cell_type": "markdown",
   "metadata": {},
   "source": [
    "# Évaluer sur l'ensemble de test (10 %) "
   ]
  },
  {
   "cell_type": "code",
   "execution_count": 61,
   "metadata": {},
   "outputs": [],
   "source": [
    "from comet_ml import API\n",
    "import joblib"
   ]
  },
  {
   "cell_type": "code",
   "execution_count": 62,
   "metadata": {},
   "outputs": [],
   "source": [
    "from dotenv import load_dotenv\n",
    "import os\n",
    "import pandas as pd\n",
    "import numpy as np"
   ]
  },
  {
   "cell_type": "markdown",
   "metadata": {},
   "source": [
    "### Loading models"
   ]
  },
  {
   "cell_type": "code",
   "execution_count": 63,
   "metadata": {},
   "outputs": [],
   "source": [
    "load_dotenv(r\".env\")\n",
    "comet_api_key = os.environ.get('COMET_API_KEY')"
   ]
  },
  {
   "cell_type": "code",
   "execution_count": 64,
   "metadata": {},
   "outputs": [],
   "source": [
    "api = API(api_key=comet_api_key)\n",
    "\n",
    "#get the Model object\n",
    "model = api.get_model(workspace=\"ift6758-a02\", model_name='best-xgboost-model')\n",
    "\n",
    "#Download a Registry Model:\n",
    "model.download(\"2.0.0\", expand=True)"
   ]
  },
  {
   "cell_type": "code",
   "execution_count": 65,
   "metadata": {},
   "outputs": [],
   "source": [
    "loaded_model = joblib.load('None/best_XGBoost_selected_features_xgb.json')"
   ]
  },
  {
   "cell_type": "markdown",
   "metadata": {},
   "source": [
    "### Loading data"
   ]
  },
  {
   "cell_type": "code",
   "execution_count": 66,
   "metadata": {},
   "outputs": [],
   "source": [
    "data_path = os.environ.get('DATA_DIR')"
   ]
  },
  {
   "cell_type": "code",
   "execution_count": 67,
   "metadata": {},
   "outputs": [],
   "source": [
    "test_data_path = data_path+\"\\\\nhl_data_2020_previous_v2_0.csv\"\n",
    "test_data=pd.read_csv(test_data_path)"
   ]
  },
  {
   "cell_type": "code",
   "execution_count": 68,
   "metadata": {},
   "outputs": [
    {
     "data": {
      "text/html": [
       "<div>\n",
       "<style scoped>\n",
       "    .dataframe tbody tr th:only-of-type {\n",
       "        vertical-align: middle;\n",
       "    }\n",
       "\n",
       "    .dataframe tbody tr th {\n",
       "        vertical-align: top;\n",
       "    }\n",
       "\n",
       "    .dataframe thead th {\n",
       "        text-align: right;\n",
       "    }\n",
       "</style>\n",
       "<table border=\"1\" class=\"dataframe\">\n",
       "  <thead>\n",
       "    <tr style=\"text-align: right;\">\n",
       "      <th></th>\n",
       "      <th>period</th>\n",
       "      <th>periodTimeInSeconds</th>\n",
       "      <th>isGoal</th>\n",
       "      <th>typeDeTir</th>\n",
       "      <th>x</th>\n",
       "      <th>y</th>\n",
       "      <th>distanceToNet</th>\n",
       "      <th>relativeAngleToNet</th>\n",
       "      <th>previousEventTypeId</th>\n",
       "      <th>previousX</th>\n",
       "      <th>previousY</th>\n",
       "      <th>distanceFromPrevious</th>\n",
       "      <th>timeDiff</th>\n",
       "      <th>rebond</th>\n",
       "      <th>angleChange</th>\n",
       "      <th>vitesse</th>\n",
       "      <th>season</th>\n",
       "    </tr>\n",
       "  </thead>\n",
       "  <tbody>\n",
       "    <tr>\n",
       "      <th>28597</th>\n",
       "      <td>2</td>\n",
       "      <td>1032</td>\n",
       "      <td>0</td>\n",
       "      <td>Wrist Shot</td>\n",
       "      <td>-41.0</td>\n",
       "      <td>13.0</td>\n",
       "      <td>50.695167</td>\n",
       "      <td>14.858614</td>\n",
       "      <td>FACEOFF</td>\n",
       "      <td>-69.0</td>\n",
       "      <td>22.0</td>\n",
       "      <td>29.41</td>\n",
       "      <td>23</td>\n",
       "      <td>False</td>\n",
       "      <td>0.0</td>\n",
       "      <td>1.278696</td>\n",
       "      <td>2020</td>\n",
       "    </tr>\n",
       "    <tr>\n",
       "      <th>31637</th>\n",
       "      <td>2</td>\n",
       "      <td>161</td>\n",
       "      <td>0</td>\n",
       "      <td>Wrist Shot</td>\n",
       "      <td>75.0</td>\n",
       "      <td>-17.0</td>\n",
       "      <td>22.671568</td>\n",
       "      <td>-5.882446</td>\n",
       "      <td>MISSED_SHOT</td>\n",
       "      <td>63.0</td>\n",
       "      <td>9.0</td>\n",
       "      <td>28.64</td>\n",
       "      <td>5</td>\n",
       "      <td>False</td>\n",
       "      <td>0.0</td>\n",
       "      <td>5.728000</td>\n",
       "      <td>2020</td>\n",
       "    </tr>\n",
       "    <tr>\n",
       "      <th>48002</th>\n",
       "      <td>1</td>\n",
       "      <td>1017</td>\n",
       "      <td>0</td>\n",
       "      <td>Tip-In</td>\n",
       "      <td>77.0</td>\n",
       "      <td>1.0</td>\n",
       "      <td>13.038405</td>\n",
       "      <td>0.343084</td>\n",
       "      <td>MISSED_SHOT</td>\n",
       "      <td>65.0</td>\n",
       "      <td>14.0</td>\n",
       "      <td>17.69</td>\n",
       "      <td>5</td>\n",
       "      <td>False</td>\n",
       "      <td>0.0</td>\n",
       "      <td>3.538000</td>\n",
       "      <td>2020</td>\n",
       "    </tr>\n",
       "  </tbody>\n",
       "</table>\n",
       "</div>"
      ],
      "text/plain": [
       "       period  periodTimeInSeconds  isGoal   typeDeTir     x     y  \\\n",
       "28597       2                 1032       0  Wrist Shot -41.0  13.0   \n",
       "31637       2                  161       0  Wrist Shot  75.0 -17.0   \n",
       "48002       1                 1017       0      Tip-In  77.0   1.0   \n",
       "\n",
       "       distanceToNet  relativeAngleToNet previousEventTypeId  previousX  \\\n",
       "28597      50.695167           14.858614             FACEOFF      -69.0   \n",
       "31637      22.671568           -5.882446         MISSED_SHOT       63.0   \n",
       "48002      13.038405            0.343084         MISSED_SHOT       65.0   \n",
       "\n",
       "       previousY  distanceFromPrevious  timeDiff  rebond  angleChange  \\\n",
       "28597       22.0                 29.41        23   False          0.0   \n",
       "31637        9.0                 28.64         5   False          0.0   \n",
       "48002       14.0                 17.69         5   False          0.0   \n",
       "\n",
       "        vitesse  season  \n",
       "28597  1.278696    2020  \n",
       "31637  5.728000    2020  \n",
       "48002  3.538000    2020  "
      ]
     },
     "execution_count": 68,
     "metadata": {},
     "output_type": "execute_result"
    }
   ],
   "source": [
    "test_data.sample(3)"
   ]
  },
  {
   "cell_type": "code",
   "execution_count": 69,
   "metadata": {},
   "outputs": [],
   "source": [
    "test_data.dropna(inplace=True)\n",
    "test_data = test_data.replace([np.inf, -np.inf], np.nan).dropna()"
   ]
  },
  {
   "cell_type": "code",
   "execution_count": 70,
   "metadata": {},
   "outputs": [],
   "source": [
    "dummy_object = pd.get_dummies(test_data[['typeDeTir', 'previousEventTypeId']])\n",
    "data = test_data.merge(dummy_object, left_index=True, right_index=True)\n",
    "test_data_fin = data.drop(labels = ['typeDeTir', 'previousEventTypeId'], axis = 1)"
   ]
  },
  {
   "cell_type": "code",
   "execution_count": 71,
   "metadata": {},
   "outputs": [],
   "source": [
    "selected_features = ['period', 'periodTimeInSeconds', 'y', 'distanceToNet', 'timeDiff', 'rebond', 'vitesse', 'typeDeTir_Backhand', 'typeDeTir_Deflected', 'typeDeTir_Slap Shot', 'typeDeTir_Snap Shot', 'typeDeTir_Tip-In', 'typeDeTir_Wrap-around', 'typeDeTir_Wrist Shot', 'previousEventTypeId_FACEOFF', 'previousEventTypeId_GIVEAWAY', 'previousEventTypeId_HIT', 'previousEventTypeId_MISSED_SHOT']"
   ]
  },
  {
   "cell_type": "code",
   "execution_count": 74,
   "metadata": {},
   "outputs": [],
   "source": [
    "X_test = test_data_fin.loc[:,['distanceToNet', 'relativeAngleToNet']]\n",
    "y_test = test_data_fin['isGoal']"
   ]
  },
  {
   "cell_type": "code",
   "execution_count": 75,
   "metadata": {},
   "outputs": [
    {
     "data": {
      "text/plain": [
       "array([0, 0, 0, ..., 0, 0, 0])"
      ]
     },
     "execution_count": 75,
     "metadata": {},
     "output_type": "execute_result"
    }
   ],
   "source": [
    "y_pred = loaded_model.predict(X_test)\n",
    "y_pred"
   ]
  }
 ],
 "metadata": {
  "kernelspec": {
   "display_name": "Python 3.11.5 ('ift6758')",
   "language": "python",
   "name": "python3"
  },
  "language_info": {
   "codemirror_mode": {
    "name": "ipython",
    "version": 3
   },
   "file_extension": ".py",
   "mimetype": "text/x-python",
   "name": "python",
   "nbconvert_exporter": "python",
   "pygments_lexer": "ipython3",
   "version": "3.11.5"
  },
  "orig_nbformat": 4,
  "vscode": {
   "interpreter": {
    "hash": "76f24fe593248544fb53c45860141e2f5868563163d477b8bfa09ccbbd1149dc"
   }
  }
 },
 "nbformat": 4,
 "nbformat_minor": 2
}
