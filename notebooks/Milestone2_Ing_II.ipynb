{
 "cells": [
  {
   "cell_type": "markdown",
   "metadata": {},
   "source": [
    "# Ingénierie des caractéristiques II (15%)"
   ]
  },
  {
   "cell_type": "code",
   "execution_count": 2,
   "metadata": {},
   "outputs": [],
   "source": [
    "import numpy as np\n",
    "import pandas as pd\n",
    "import datetime"
   ]
  },
  {
   "cell_type": "code",
   "execution_count": null,
   "metadata": {},
   "outputs": [],
   "source": [
    "#Helper Function\n",
    "def role(z):\n",
    "    shooter = []\n",
    "    assist = []\n",
    "    guardian = []\n",
    "\n",
    "    for player in z:\n",
    "        if player['playerType'] in [\"Shooter\", 'Scorer']:\n",
    "            shooter.append((player['player']['fullName'], player['player']['id']))\n",
    "        elif player['playerType'] == 'Assist':\n",
    "            assist.append((player['player']['fullName'], player['player']['id']))\n",
    "        elif player['playerType'] == 'Goalie':\n",
    "            guardian.append((player['player']['fullName'], player['player']['id']))\n",
    "        else:\n",
    "            print(\"new player type: \"+ player['playerType'])\n",
    "    if len(guardian) == 0:\n",
    "        guardian = (\"Empty\", 0)\n",
    "    else:\n",
    "        guardian = guardian[0]\n",
    "    return [shooter, assist, guardian]\n",
    "\n",
    "\n",
    "def stringCoordx(strCoord):\n",
    "    l = strCoord.split(\",\")\n",
    "    return float(l[0].split(\" \")[-1])\n",
    "\n",
    "def stringCoordy(strCoord):\n",
    "    l = strCoord.split(\",\")\n",
    "    return float(l[1].split(\" \")[-1][:-1])\n",
    "\n",
    "\n",
    "def clean_with_PreviousEvent(json_path):\n",
    "    \"\"\"\n",
    "    json_path: path vers le fichier json\n",
    "\n",
    "    clean et sauvegarde un df clean\n",
    "    \"\"\"\n",
    "    df = pd.read_json(json_path)\n",
    "\n",
    "    teamdf = df['gameData'].apply(pd.Series)['teams'].apply(pd.Series)\n",
    "\n",
    "    df = df['liveData'].apply(pd.Series)['plays'].apply(pd.Series)['allPlays']\n",
    "    df = pd.DataFrame(df)\n",
    "    df = df.explode(\"allPlays\")\n",
    "    df = df.rename(columns={'allPlays': \"play\"})\n",
    "\n",
    "    #add the wayTeam & homeTeam columns\n",
    "    df['awayTeam'] = teamdf['away'].apply(pd.Series)['name']\n",
    "    df['homeTeam'] = teamdf['home'].apply(pd.Series)['name']\n",
    "\n",
    "    df = df['play'].apply(pd.Series)\n",
    "    df = pd.concat([df, df['result'].apply(pd.Series)], axis=1)\n",
    "    df = df.drop('result', axis=1)\n",
    "    df = pd.concat([df, df['about'].apply(pd.Series)], axis=1)\n",
    "    df = df.drop('about', axis=1)\n",
    "    df['previousEventTypeId'] = df['eventTypeId'].shift(1)\n",
    "    df.loc[df['eventId'] == 1, 'previousEventTypeId'] = None\n",
    "    df['previousDescription'] = df['description'].shift(1)\n",
    "    df.loc[df['eventId'] == 1, 'previousDescription'] = None\n",
    "    df['previousCoordinates'] = df['coordinates'].shift(1)\n",
    "    df.loc[df['eventId'] == 1, 'previousCoordinates'] = None\n",
    "    df['previousPeriod'] = df['period'].shift(1)\n",
    "    df.loc[df['eventId'] == 1, 'previousPeriod'] = None\n",
    "    df['previousPeriodTime'] = df['periodTime'].shift(1)\n",
    "    df.loc[df['eventId'] == 1, 'previousPeriodTime'] = None\n",
    "    df['previousDateTime'] = df['dateTime'].shift(1)\n",
    "    df.loc[df['eventId'] == 1, 'previousDateTime'] = None\n",
    "    df = df[df['event'].isin(['Shot', 'Goal'])]\n",
    "\n",
    "    df_inbetween = df[[ 'dateTime', 'period', 'periodTime', 'event', 'eventTypeId', 'eventId', 'description',  'team', 'secondaryType', 'strength', 'coordinates', 'goals', 'previousEventTypeId', 'previousDescription', 'previousCoordinates', 'previousPeriod', 'previousPeriodTime', 'previousDateTime']].copy()\n",
    "    df_inbetween = pd.concat([df_inbetween, df_inbetween['team'].apply(pd.Series).iloc[:,[1,3]]], axis=1)\n",
    "    df_inbetween = pd.concat([df_inbetween, df['players'].apply(role).apply(pd.Series)], axis=1)\n",
    "    df_inbetween = df_inbetween.rename(columns={0: \"tireur/ID\", 1: \"assist/ID\", 2: \"guardian/ID\", 'name': 'attackingTeamName', 'triCode': 'attackingTeamTriCode', 'secondaryType': 'typeDeTir', 'goals': 'scoreAfterShot'})\n",
    "    df_inbetween = df_inbetween.drop('team', axis=1)\n",
    "    df_inbetween['emptyNet'] = pd.Series(np.where(df_inbetween['guardian/ID'] ==(\"Empty\", 0), True, False))\n",
    "    df_inbetween = df_inbetween.rename(columns={\"Unnamed: 0\": 'matchNum'})\n",
    "    df_inbetween = pd.concat([df_inbetween, df_inbetween['coordinates'].apply(lambda x: pd.Series(x, dtype=np.float64))], axis=1)\n",
    "\n",
    "    #drop some columns columns\n",
    "    df = df_inbetween[['dateTime', 'period', 'periodTime', 'eventTypeId', 'typeDeTir', 'description', 'x', 'y', 'previousEventTypeId', 'previousCoordinates', 'previousPeriodTime', 'previousDateTime']]\n",
    "    # Coordonnées des camps gauche et droit\n",
    "    coord_camp_gauche = (-90, 0)\n",
    "    coord_camp_droit = (90, 0)\n",
    "\n",
    "    df['distanceToNet'] = np.sqrt(np.minimum((df['x'] - coord_camp_gauche[0])**2 + (df['y'] - coord_camp_gauche[1])**2, (df['x'] - coord_camp_droit[0])**2 + (df['y'] - coord_camp_droit[1])**2))\n",
    "\n",
    "    # Calculer l'angle relatif du joueur par rapport au filet (filet gauche)\n",
    "    df['relativeAngleToNet'] = np.degrees(np.arctan2(df['y'], df['x'] - coord_camp_gauche[0]))\n",
    "\n",
    "    df = pd.concat([df, df['previousCoordinates'].apply(lambda x: pd.Series(x, dtype=np.float64))], axis=1)\n",
    "    #rename previous X and Y\n",
    "    df.columns = np.concatenate([np.array(df.columns[:-2]), ['previousX', 'previousY']])\n",
    "\n",
    "    #drop NaN rows\n",
    "    df = df.dropna(subset=['x', 'y'])\n",
    "    #drop obsolete previousCoordinates columns\n",
    "    df = df.drop('previousCoordinates', axis=1)\n",
    "    #calculate distance from previous event\n",
    "    df['distanceFromPrevious'] = round(np.sqrt((df['x']-df['previousX'])**2+(df['y']-df['previousY'])**2), 2)\n",
    "    #calculate timeDiff\n",
    "    time_format = \"%M:%S\"\n",
    "    df['periodTimeInSeconds'] = pd.to_datetime(df['periodTime'], format=time_format).dt.minute * 60 + pd.to_datetime(df['periodTime'], format=time_format).dt.second\n",
    "    df['timeDiff'] = (pd.to_datetime(df['periodTime'], format=time_format) - pd.to_datetime(df['previousPeriodTime'], format=time_format)).dt.total_seconds().astype(int)\n",
    "    #cree rebond\n",
    "    df['rebond'] = df['previousEventTypeId'] == 'SHOT'\n",
    "    #cree vitess\n",
    "    df['vitesse'] = df['distanceFromPrevious']/df['timeDiff']\n",
    "    # Calculer l'angle relatif du joueur par rapport au filet (filet gauche)\n",
    "    df['previousRelativeAngleToNet'] = np.degrees(np.arctan2(df['previousY'], df['previousX'] - coord_camp_gauche[0]))\n",
    "    #cree angleChange\n",
    "    df['angleChange'] = np.abs(df['relativeAngleToNet']-df['previousRelativeAngleToNet'])\n",
    "    df.loc[df['rebond'] == False, 'angleChange'] = 0.0\n",
    "    #cr\n",
    "    df['isGoal'] = (df['eventTypeId'] == \"GOAL\")*1\n",
    "\n",
    "    #cree le df final\n",
    "    final = df[['period', 'periodTimeInSeconds', 'isGoal', 'typeDeTir', 'x', 'y', 'distanceToNet', 'relativeAngleToNet', 'previousEventTypeId', 'previousX', 'previousY', 'distanceFromPrevious', 'timeDiff', 'rebond', 'angleChange','vitesse']]\n",
    "\n",
    "    final['season'] = int(json_path[-9:-5])\n",
    "\n",
    "    final.to_csv(json_path[:-5]+\"_previous.csv\", index=False)"
   ]
  },
  {
   "cell_type": "code",
   "execution_count": null,
   "metadata": {},
   "outputs": [],
   "source": [
    "#iterate over all nhl_data files and make a clean df\n",
    "p = [\"nhl_data_2016.json\", \"nhl_data_2017.json\", \"nhl_data_2018.json\", \"nhl_data_2019.json\", \"nhl_data_2020.json\"]\n",
    "for file_path in p:\n",
    "    clean_with_PreviousEvent(file_path)"
   ]
  },
  {
   "cell_type": "code",
   "execution_count": null,
   "metadata": {},
   "outputs": [],
   "source": [
    "#merge all the clean df into one\n",
    "p_previous = [\"nhl_data_2016_previous.csv\",\"nhl_data_2017_previous.csv\", \"nhl_data_2018_previous.csv\", \"nhl_data_2019_previous.csv\"]\n",
    "df_list = []\n",
    "count = 0\n",
    "for path in p_previous:\n",
    "    df = pd.read_csv(path)\n",
    "    df['Unnamed: 0'] = df['Unnamed: 0']+count\n",
    "    count = df['Unnamed: 0'].values[-1]\n",
    "    df_list.append(df)\n",
    "df = pd.concat(df_list, axis=0, ignore_index=True)\n",
    "df.to_csv('nhl_2016to2019_previous.csv', index=False)"
   ]
  },
  {
   "cell_type": "markdown",
   "metadata": {},
   "source": [
    "### Enregistrement des données filtrées pour un jeu spécifique"
   ]
  },
  {
   "cell_type": "code",
   "execution_count": null,
   "metadata": {},
   "outputs": [],
   "source": [
    "from comet_ml import Experiment\n",
    "import os"
   ]
  },
  {
   "cell_type": "code",
   "execution_count": null,
   "metadata": {},
   "outputs": [],
   "source": [
    "clean_with_PreviousEvent('/content/drive/MyDrive/NHL2/nhl_data_2017.json')\n",
    "WWdf = final.loc[1064]"
   ]
  },
  {
   "cell_type": "code",
   "execution_count": null,
   "metadata": {},
   "outputs": [],
   "source": [
    "experience = Experiment(\n",
    "    api_key = os.environ.get(comet_api_key),\n",
    "    project_name = 'milestone2',\n",
    "    workspace = 'ift6758-a02',\n",
    ")\n",
    "experience.set_name(\"Enregistrement des données spécifique due match avec ID=2017021065\")\n",
    "\n",
    "\n",
    "experience.log_dataframe_profile(\n",
    "    dataframe = WWdf,\n",
    "    name = 'wpg_v_wsh_2017021065', \n",
    "    dataframe_format = 'csv'\n",
    ")\n",
    "\n",
    "experience.end()"
   ]
  }
 ],
 "metadata": {
  "kernelspec": {
   "display_name": "Python 3.11.5 ('ift6758')",
   "language": "python",
   "name": "python3"
  },
  "language_info": {
   "codemirror_mode": {
    "name": "ipython",
    "version": 3
   },
   "file_extension": ".py",
   "mimetype": "text/x-python",
   "name": "python",
   "nbconvert_exporter": "python",
   "pygments_lexer": "ipython3",
   "version": "3.11.5"
  },
  "orig_nbformat": 4,
  "vscode": {
   "interpreter": {
    "hash": "76f24fe593248544fb53c45860141e2f5868563163d477b8bfa09ccbbd1149dc"
   }
  }
 },
 "nbformat": 4,
 "nbformat_minor": 2
}
