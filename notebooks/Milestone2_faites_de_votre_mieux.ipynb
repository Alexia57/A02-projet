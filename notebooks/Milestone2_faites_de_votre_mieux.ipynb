{
 "cells": [
  {
   "cell_type": "markdown",
   "metadata": {},
   "source": [
    "# Faites de votre mieux! (20%) "
   ]
  },
  {
   "cell_type": "code",
   "execution_count": 1,
   "metadata": {},
   "outputs": [],
   "source": [
    "from comet_ml import Experiment"
   ]
  },
  {
   "cell_type": "code",
   "execution_count": 2,
   "metadata": {},
   "outputs": [],
   "source": [
    "from dotenv import load_dotenv\n",
    "load_dotenv(r\".env\")\n",
    "import os"
   ]
  },
  {
   "cell_type": "code",
   "execution_count": 3,
   "metadata": {},
   "outputs": [],
   "source": [
    "comet_api_key = os.environ.get('COMET_API_KEY')"
   ]
  },
  {
   "cell_type": "code",
   "execution_count": 4,
   "metadata": {},
   "outputs": [],
   "source": [
    "import pandas as pd\n",
    "import numpy as np\n",
    "import matplotlib.pyplot as plt\n",
    "import seaborn as sns\n",
    "from sklearn.metrics import accuracy_score, log_loss, confusion_matrix, roc_curve, roc_auc_score\n",
    "from sklearn.model_selection import train_test_split, GridSearchCV\n",
    "from sklearn.calibration import CalibrationDisplay, calibration_curve\n",
    "import pickle\n",
    "from plots import *\n",
    "from sklearn.ensemble import RandomForestClassifier"
   ]
  },
  {
   "cell_type": "markdown",
   "metadata": {},
   "source": [
    "### 1. Classificateur XGBoost en utilisant uniquement les caractéristiques de distance et d'angle "
   ]
  },
  {
   "cell_type": "markdown",
   "metadata": {},
   "source": [
    "#### Loading data"
   ]
  },
  {
   "cell_type": "code",
   "execution_count": 5,
   "metadata": {},
   "outputs": [],
   "source": [
    "data_path = os.environ.get('DATA_DIR')"
   ]
  },
  {
   "cell_type": "code",
   "execution_count": 6,
   "metadata": {},
   "outputs": [
    {
     "name": "stdout",
     "output_type": "stream",
     "text": [
      "True\n"
     ]
    }
   ],
   "source": [
    "print(load_dotenv(r\".env\"))"
   ]
  },
  {
   "cell_type": "code",
   "execution_count": 31,
   "metadata": {},
   "outputs": [],
   "source": [
    "#train_data_path = \"./data/nhl_train_data.csv\"\n",
    "#test_data_path = \"./data/nhl_test_data.csv\"\n",
    "\n",
    "train_data_path_2 = \"./nhl_2016to2019_adv.csv\"\n",
    "test_data_path_2 = \"./nhl_2020_adv_1.csv\""
   ]
  },
  {
   "cell_type": "code",
   "execution_count": 32,
   "metadata": {},
   "outputs": [],
   "source": [
    "#train_data=pd.read_csv(train_data_path)\n",
    "#test_data=pd.read_csv(test_data_path)\n",
    "\n",
    "train_data_2=pd.read_csv(train_data_path_2)\n",
    "test_data_2=pd.read_csv(test_data_path_2)"
   ]
  },
  {
   "cell_type": "code",
   "execution_count": 33,
   "metadata": {},
   "outputs": [
    {
     "data": {
      "text/plain": [
       "Index(['period', 'periodTimeInSeconds', 'isGoal', 'typeDeTir', 'x', 'y',\n",
       "       'distanceToNet', 'relativeAngleToNet', 'previousEventTypeId',\n",
       "       'previousX', 'previousY', 'distanceFromPrevious', 'timeDiff', 'rebond',\n",
       "       'angleChange', 'vitesse', 'gameTime', 'homePlayer', 'awayPlayer',\n",
       "       'homePenaltySecondsRemaining', 'awayPenaltySecondsRemaining',\n",
       "       'attackingTeamPlayer', 'DefendingTeamPlayer'],\n",
       "      dtype='object')"
      ]
     },
     "execution_count": 33,
     "metadata": {},
     "output_type": "execute_result"
    }
   ],
   "source": [
    "train_data_2.columns"
   ]
  },
  {
   "cell_type": "code",
   "execution_count": 34,
   "metadata": {},
   "outputs": [
    {
     "name": "stdout",
     "output_type": "stream",
     "text": [
      "<class 'pandas.core.frame.DataFrame'>\n",
      "RangeIndex: 305760 entries, 0 to 305759\n",
      "Data columns (total 23 columns):\n",
      " #   Column                       Non-Null Count   Dtype  \n",
      "---  ------                       --------------   -----  \n",
      " 0   period                       305760 non-null  float64\n",
      " 1   periodTimeInSeconds          305760 non-null  int64  \n",
      " 2   isGoal                       305760 non-null  int64  \n",
      " 3   typeDeTir                    305760 non-null  object \n",
      " 4   x                            305760 non-null  float64\n",
      " 5   y                            305760 non-null  float64\n",
      " 6   distanceToNet                305760 non-null  float64\n",
      " 7   relativeAngleToNet           305760 non-null  float64\n",
      " 8   previousEventTypeId          305760 non-null  object \n",
      " 9   previousX                    301611 non-null  float64\n",
      " 10  previousY                    301612 non-null  float64\n",
      " 11  distanceFromPrevious         301611 non-null  float64\n",
      " 12  timeDiff                     305760 non-null  int64  \n",
      " 13  rebond                       305760 non-null  bool   \n",
      " 14  angleChange                  305758 non-null  float64\n",
      " 15  vitesse                      301594 non-null  float64\n",
      " 16  gameTime                     305760 non-null  float64\n",
      " 17  homePlayer                   305760 non-null  int64  \n",
      " 18  awayPlayer                   305760 non-null  int64  \n",
      " 19  homePenaltySecondsRemaining  305760 non-null  int64  \n",
      " 20  awayPenaltySecondsRemaining  305760 non-null  int64  \n",
      " 21  attackingTeamPlayer          305760 non-null  int64  \n",
      " 22  DefendingTeamPlayer          305760 non-null  int64  \n",
      "dtypes: bool(1), float64(11), int64(9), object(2)\n",
      "memory usage: 51.6+ MB\n"
     ]
    }
   ],
   "source": [
    "train_data_2.info()"
   ]
  },
  {
   "cell_type": "code",
   "execution_count": 35,
   "metadata": {},
   "outputs": [
    {
     "data": {
      "text/html": [
       "<div>\n",
       "<style scoped>\n",
       "    .dataframe tbody tr th:only-of-type {\n",
       "        vertical-align: middle;\n",
       "    }\n",
       "\n",
       "    .dataframe tbody tr th {\n",
       "        vertical-align: top;\n",
       "    }\n",
       "\n",
       "    .dataframe thead th {\n",
       "        text-align: right;\n",
       "    }\n",
       "</style>\n",
       "<table border=\"1\" class=\"dataframe\">\n",
       "  <thead>\n",
       "    <tr style=\"text-align: right;\">\n",
       "      <th></th>\n",
       "      <th>period</th>\n",
       "      <th>periodTimeInSeconds</th>\n",
       "      <th>isGoal</th>\n",
       "      <th>typeDeTir</th>\n",
       "      <th>x</th>\n",
       "      <th>y</th>\n",
       "      <th>distanceToNet</th>\n",
       "      <th>relativeAngleToNet</th>\n",
       "      <th>previousEventTypeId</th>\n",
       "      <th>previousX</th>\n",
       "      <th>...</th>\n",
       "      <th>rebond</th>\n",
       "      <th>angleChange</th>\n",
       "      <th>vitesse</th>\n",
       "      <th>gameTime</th>\n",
       "      <th>homePlayer</th>\n",
       "      <th>awayPlayer</th>\n",
       "      <th>homePenaltySecondsRemaining</th>\n",
       "      <th>awayPenaltySecondsRemaining</th>\n",
       "      <th>attackingTeamPlayer</th>\n",
       "      <th>DefendingTeamPlayer</th>\n",
       "    </tr>\n",
       "  </thead>\n",
       "  <tbody>\n",
       "    <tr>\n",
       "      <th>142567</th>\n",
       "      <td>2.0</td>\n",
       "      <td>375</td>\n",
       "      <td>0</td>\n",
       "      <td>Wrist Shot</td>\n",
       "      <td>-85.0</td>\n",
       "      <td>34.0</td>\n",
       "      <td>34.365681</td>\n",
       "      <td>81.634114</td>\n",
       "      <td>HIT</td>\n",
       "      <td>37.0</td>\n",
       "      <td>...</td>\n",
       "      <td>False</td>\n",
       "      <td>0.000000</td>\n",
       "      <td>20.237143</td>\n",
       "      <td>1575.0</td>\n",
       "      <td>5</td>\n",
       "      <td>5</td>\n",
       "      <td>0</td>\n",
       "      <td>0</td>\n",
       "      <td>5</td>\n",
       "      <td>5</td>\n",
       "    </tr>\n",
       "    <tr>\n",
       "      <th>158722</th>\n",
       "      <td>3.0</td>\n",
       "      <td>680</td>\n",
       "      <td>0</td>\n",
       "      <td>Wrist Shot</td>\n",
       "      <td>-73.0</td>\n",
       "      <td>2.0</td>\n",
       "      <td>17.117243</td>\n",
       "      <td>6.709837</td>\n",
       "      <td>SHOT</td>\n",
       "      <td>-72.0</td>\n",
       "      <td>...</td>\n",
       "      <td>True</td>\n",
       "      <td>16.172159</td>\n",
       "      <td>5.100000</td>\n",
       "      <td>3080.0</td>\n",
       "      <td>4</td>\n",
       "      <td>4</td>\n",
       "      <td>225</td>\n",
       "      <td>225</td>\n",
       "      <td>4</td>\n",
       "      <td>4</td>\n",
       "    </tr>\n",
       "    <tr>\n",
       "      <th>255618</th>\n",
       "      <td>3.0</td>\n",
       "      <td>244</td>\n",
       "      <td>0</td>\n",
       "      <td>Tip-In</td>\n",
       "      <td>-73.0</td>\n",
       "      <td>4.0</td>\n",
       "      <td>17.464249</td>\n",
       "      <td>13.240520</td>\n",
       "      <td>SHOT</td>\n",
       "      <td>-77.0</td>\n",
       "      <td>...</td>\n",
       "      <td>True</td>\n",
       "      <td>17.639225</td>\n",
       "      <td>0.400000</td>\n",
       "      <td>2644.0</td>\n",
       "      <td>5</td>\n",
       "      <td>5</td>\n",
       "      <td>0</td>\n",
       "      <td>0</td>\n",
       "      <td>5</td>\n",
       "      <td>5</td>\n",
       "    </tr>\n",
       "  </tbody>\n",
       "</table>\n",
       "<p>3 rows × 23 columns</p>\n",
       "</div>"
      ],
      "text/plain": [
       "        period  periodTimeInSeconds  isGoal   typeDeTir     x     y  \\\n",
       "142567     2.0                  375       0  Wrist Shot -85.0  34.0   \n",
       "158722     3.0                  680       0  Wrist Shot -73.0   2.0   \n",
       "255618     3.0                  244       0      Tip-In -73.0   4.0   \n",
       "\n",
       "        distanceToNet  relativeAngleToNet previousEventTypeId  previousX  ...  \\\n",
       "142567      34.365681           81.634114                 HIT       37.0  ...   \n",
       "158722      17.117243            6.709837                SHOT      -72.0  ...   \n",
       "255618      17.464249           13.240520                SHOT      -77.0  ...   \n",
       "\n",
       "        rebond  angleChange    vitesse  gameTime  homePlayer  awayPlayer  \\\n",
       "142567   False     0.000000  20.237143    1575.0           5           5   \n",
       "158722    True    16.172159   5.100000    3080.0           4           4   \n",
       "255618    True    17.639225   0.400000    2644.0           5           5   \n",
       "\n",
       "        homePenaltySecondsRemaining  awayPenaltySecondsRemaining  \\\n",
       "142567                            0                            0   \n",
       "158722                          225                          225   \n",
       "255618                            0                            0   \n",
       "\n",
       "        attackingTeamPlayer  DefendingTeamPlayer  \n",
       "142567                    5                    5  \n",
       "158722                    4                    4  \n",
       "255618                    5                    5  \n",
       "\n",
       "[3 rows x 23 columns]"
      ]
     },
     "execution_count": 35,
     "metadata": {},
     "output_type": "execute_result"
    }
   ],
   "source": [
    "train_data_2.sample(3)"
   ]
  },
  {
   "cell_type": "code",
   "execution_count": 36,
   "metadata": {},
   "outputs": [
    {
     "name": "stdout",
     "output_type": "stream",
     "text": [
      "(305760, 23)\n",
      "(52404, 23)\n"
     ]
    }
   ],
   "source": [
    "print(train_data_2.shape)\n",
    "print(test_data_2.shape)"
   ]
  },
  {
   "cell_type": "markdown",
   "metadata": {},
   "source": [
    "#### Création de la foret aléatoire et son évaluation"
   ]
  },
  {
   "cell_type": "code",
   "execution_count": 37,
   "metadata": {},
   "outputs": [],
   "source": [
    "experience_comet = False"
   ]
  },
  {
   "cell_type": "code",
   "execution_count": 38,
   "metadata": {},
   "outputs": [
    {
     "name": "stdout",
     "output_type": "stream",
     "text": [
      "<class 'pandas.core.frame.DataFrame'>\n",
      "RangeIndex: 305760 entries, 0 to 305759\n",
      "Data columns (total 23 columns):\n",
      " #   Column                       Non-Null Count   Dtype  \n",
      "---  ------                       --------------   -----  \n",
      " 0   period                       305760 non-null  float64\n",
      " 1   periodTimeInSeconds          305760 non-null  int64  \n",
      " 2   isGoal                       305760 non-null  int64  \n",
      " 3   typeDeTir                    305760 non-null  object \n",
      " 4   x                            305760 non-null  float64\n",
      " 5   y                            305760 non-null  float64\n",
      " 6   distanceToNet                305760 non-null  float64\n",
      " 7   relativeAngleToNet           305760 non-null  float64\n",
      " 8   previousEventTypeId          305760 non-null  object \n",
      " 9   previousX                    301611 non-null  float64\n",
      " 10  previousY                    301612 non-null  float64\n",
      " 11  distanceFromPrevious         301611 non-null  float64\n",
      " 12  timeDiff                     305760 non-null  int64  \n",
      " 13  rebond                       305760 non-null  bool   \n",
      " 14  angleChange                  305758 non-null  float64\n",
      " 15  vitesse                      301594 non-null  float64\n",
      " 16  gameTime                     305760 non-null  float64\n",
      " 17  homePlayer                   305760 non-null  int64  \n",
      " 18  awayPlayer                   305760 non-null  int64  \n",
      " 19  homePenaltySecondsRemaining  305760 non-null  int64  \n",
      " 20  awayPenaltySecondsRemaining  305760 non-null  int64  \n",
      " 21  attackingTeamPlayer          305760 non-null  int64  \n",
      " 22  DefendingTeamPlayer          305760 non-null  int64  \n",
      "dtypes: bool(1), float64(11), int64(9), object(2)\n",
      "memory usage: 51.6+ MB\n"
     ]
    }
   ],
   "source": [
    "train_data_2.info()"
   ]
  },
  {
   "cell_type": "code",
   "execution_count": 39,
   "metadata": {},
   "outputs": [
    {
     "name": "stdout",
     "output_type": "stream",
     "text": [
      "Y a-t-il des NaN dans le DataFrame ? 5\n",
      "Colonnes avec des NaN : Index(['previousX', 'previousY', 'distanceFromPrevious', 'angleChange',\n",
      "       'vitesse'],\n",
      "      dtype='object')\n"
     ]
    }
   ],
   "source": [
    "# Vérifier s'il y a des NaN dans tout le DataFrame\n",
    "nan_nb = train_data_2.isna().any().sum()\n",
    "\n",
    "# Afficher le résultat\n",
    "print(f\"Y a-t-il des NaN dans le DataFrame ? {nan_nb}\")\n",
    "\n",
    "# Vérifier s'il y a des NaN dans chaque colonne\n",
    "nan_columns = train_data_2.columns[train_data_2.isna().any()]\n",
    "\n",
    "# Afficher les colonnes avec des NaN\n",
    "if not nan_columns.empty:\n",
    "    print(f\"Colonnes avec des NaN : {nan_columns}\")\n",
    "else:\n",
    "    print(\"Aucune colonne avec NaN.\")"
   ]
  },
  {
   "cell_type": "code",
   "execution_count": 40,
   "metadata": {},
   "outputs": [],
   "source": [
    "train_data_2.dropna(inplace=True)"
   ]
  },
  {
   "cell_type": "code",
   "execution_count": 41,
   "metadata": {},
   "outputs": [
    {
     "name": "stdout",
     "output_type": "stream",
     "text": [
      "Proportion de valeurs infinies : 0.08%\n",
      "Nombre total de lignes dans le dataframe : 301594\n"
     ]
    }
   ],
   "source": [
    "# Calculer la proportion de valeurs infinies dans le dataframe\n",
    "inf_proportion = train_data_2.replace([np.inf, -np.inf], np.nan).isna().mean().mean()\n",
    "\n",
    "# Afficher le nombre total de lignes dans le dataframe\n",
    "num_rows = len(train_data_2)\n",
    "\n",
    "print(f\"Proportion de valeurs infinies : {inf_proportion:.2%}\")\n",
    "print(f\"Nombre total de lignes dans le dataframe : {num_rows}\")"
   ]
  },
  {
   "cell_type": "code",
   "execution_count": 42,
   "metadata": {},
   "outputs": [],
   "source": [
    "train_data_2 = train_data_2.replace([np.inf, -np.inf], np.nan).dropna()"
   ]
  },
  {
   "cell_type": "code",
   "execution_count": 43,
   "metadata": {},
   "outputs": [],
   "source": [
    "dummy_object = pd.get_dummies(train_data_2[['typeDeTir', 'previousEventTypeId']])\n",
    "data = train_data_2.merge(dummy_object, left_index=True, right_index=True)\n",
    "train_data_2_correct = data.drop(labels = ['typeDeTir', 'previousEventTypeId', 'homePlayer', 'awayPlayer'], axis = 1)"
   ]
  },
  {
   "cell_type": "code",
   "execution_count": 44,
   "metadata": {},
   "outputs": [
    {
     "name": "stdout",
     "output_type": "stream",
     "text": [
      "<class 'pandas.core.frame.DataFrame'>\n",
      "Index: 295973 entries, 0 to 305759\n",
      "Data columns (total 37 columns):\n",
      " #   Column                            Non-Null Count   Dtype  \n",
      "---  ------                            --------------   -----  \n",
      " 0   period                            295973 non-null  float64\n",
      " 1   periodTimeInSeconds               295973 non-null  int64  \n",
      " 2   isGoal                            295973 non-null  int64  \n",
      " 3   x                                 295973 non-null  float64\n",
      " 4   y                                 295973 non-null  float64\n",
      " 5   distanceToNet                     295973 non-null  float64\n",
      " 6   relativeAngleToNet                295973 non-null  float64\n",
      " 7   previousX                         295973 non-null  float64\n",
      " 8   previousY                         295973 non-null  float64\n",
      " 9   distanceFromPrevious              295973 non-null  float64\n",
      " 10  timeDiff                          295973 non-null  int64  \n",
      " 11  rebond                            295973 non-null  bool   \n",
      " 12  angleChange                       295973 non-null  float64\n",
      " 13  vitesse                           295973 non-null  float64\n",
      " 14  gameTime                          295973 non-null  float64\n",
      " 15  homePlayer                        295973 non-null  int64  \n",
      " 16  awayPlayer                        295973 non-null  int64  \n",
      " 17  homePenaltySecondsRemaining       295973 non-null  int64  \n",
      " 18  awayPenaltySecondsRemaining       295973 non-null  int64  \n",
      " 19  attackingTeamPlayer               295973 non-null  int64  \n",
      " 20  DefendingTeamPlayer               295973 non-null  int64  \n",
      " 21  typeDeTir_Backhand                295973 non-null  bool   \n",
      " 22  typeDeTir_Deflected               295973 non-null  bool   \n",
      " 23  typeDeTir_Slap Shot               295973 non-null  bool   \n",
      " 24  typeDeTir_Snap Shot               295973 non-null  bool   \n",
      " 25  typeDeTir_Tip-In                  295973 non-null  bool   \n",
      " 26  typeDeTir_Wrap-around             295973 non-null  bool   \n",
      " 27  typeDeTir_Wrist Shot              295973 non-null  bool   \n",
      " 28  previousEventTypeId_BLOCKED_SHOT  295973 non-null  bool   \n",
      " 29  previousEventTypeId_FACEOFF       295973 non-null  bool   \n",
      " 30  previousEventTypeId_GIVEAWAY      295973 non-null  bool   \n",
      " 31  previousEventTypeId_GOAL          295973 non-null  bool   \n",
      " 32  previousEventTypeId_HIT           295973 non-null  bool   \n",
      " 33  previousEventTypeId_MISSED_SHOT   295973 non-null  bool   \n",
      " 34  previousEventTypeId_PENALTY       295973 non-null  bool   \n",
      " 35  previousEventTypeId_SHOT          295973 non-null  bool   \n",
      " 36  previousEventTypeId_TAKEAWAY      295973 non-null  bool   \n",
      "dtypes: bool(17), float64(11), int64(9)\n",
      "memory usage: 60.3 MB\n"
     ]
    }
   ],
   "source": [
    "train_data_2_correct.info()"
   ]
  },
  {
   "cell_type": "code",
   "execution_count": 46,
   "metadata": {},
   "outputs": [
    {
     "data": {
      "text/html": [
       "<div>\n",
       "<style scoped>\n",
       "    .dataframe tbody tr th:only-of-type {\n",
       "        vertical-align: middle;\n",
       "    }\n",
       "\n",
       "    .dataframe tbody tr th {\n",
       "        vertical-align: top;\n",
       "    }\n",
       "\n",
       "    .dataframe thead th {\n",
       "        text-align: right;\n",
       "    }\n",
       "</style>\n",
       "<table border=\"1\" class=\"dataframe\">\n",
       "  <thead>\n",
       "    <tr style=\"text-align: right;\">\n",
       "      <th></th>\n",
       "      <th>period</th>\n",
       "      <th>periodTimeInSeconds</th>\n",
       "      <th>isGoal</th>\n",
       "      <th>x</th>\n",
       "      <th>y</th>\n",
       "      <th>distanceToNet</th>\n",
       "      <th>relativeAngleToNet</th>\n",
       "      <th>previousX</th>\n",
       "      <th>previousY</th>\n",
       "      <th>distanceFromPrevious</th>\n",
       "      <th>...</th>\n",
       "      <th>typeDeTir_Wrist Shot</th>\n",
       "      <th>previousEventTypeId_BLOCKED_SHOT</th>\n",
       "      <th>previousEventTypeId_FACEOFF</th>\n",
       "      <th>previousEventTypeId_GIVEAWAY</th>\n",
       "      <th>previousEventTypeId_GOAL</th>\n",
       "      <th>previousEventTypeId_HIT</th>\n",
       "      <th>previousEventTypeId_MISSED_SHOT</th>\n",
       "      <th>previousEventTypeId_PENALTY</th>\n",
       "      <th>previousEventTypeId_SHOT</th>\n",
       "      <th>previousEventTypeId_TAKEAWAY</th>\n",
       "    </tr>\n",
       "  </thead>\n",
       "  <tbody>\n",
       "    <tr>\n",
       "      <th>78238</th>\n",
       "      <td>1.0</td>\n",
       "      <td>172</td>\n",
       "      <td>0</td>\n",
       "      <td>-80.0</td>\n",
       "      <td>-22.0</td>\n",
       "      <td>24.166092</td>\n",
       "      <td>-65.556045</td>\n",
       "      <td>56.0</td>\n",
       "      <td>30.0</td>\n",
       "      <td>145.60</td>\n",
       "      <td>...</td>\n",
       "      <td>False</td>\n",
       "      <td>False</td>\n",
       "      <td>False</td>\n",
       "      <td>False</td>\n",
       "      <td>False</td>\n",
       "      <td>False</td>\n",
       "      <td>False</td>\n",
       "      <td>False</td>\n",
       "      <td>True</td>\n",
       "      <td>False</td>\n",
       "    </tr>\n",
       "    <tr>\n",
       "      <th>84024</th>\n",
       "      <td>2.0</td>\n",
       "      <td>681</td>\n",
       "      <td>0</td>\n",
       "      <td>-59.0</td>\n",
       "      <td>19.0</td>\n",
       "      <td>36.359318</td>\n",
       "      <td>31.504267</td>\n",
       "      <td>-44.0</td>\n",
       "      <td>-38.0</td>\n",
       "      <td>58.94</td>\n",
       "      <td>...</td>\n",
       "      <td>True</td>\n",
       "      <td>False</td>\n",
       "      <td>False</td>\n",
       "      <td>False</td>\n",
       "      <td>False</td>\n",
       "      <td>False</td>\n",
       "      <td>False</td>\n",
       "      <td>False</td>\n",
       "      <td>False</td>\n",
       "      <td>True</td>\n",
       "    </tr>\n",
       "    <tr>\n",
       "      <th>6443</th>\n",
       "      <td>1.0</td>\n",
       "      <td>118</td>\n",
       "      <td>0</td>\n",
       "      <td>66.0</td>\n",
       "      <td>31.0</td>\n",
       "      <td>39.204592</td>\n",
       "      <td>11.239284</td>\n",
       "      <td>-69.0</td>\n",
       "      <td>22.0</td>\n",
       "      <td>135.30</td>\n",
       "      <td>...</td>\n",
       "      <td>False</td>\n",
       "      <td>False</td>\n",
       "      <td>True</td>\n",
       "      <td>False</td>\n",
       "      <td>False</td>\n",
       "      <td>False</td>\n",
       "      <td>False</td>\n",
       "      <td>False</td>\n",
       "      <td>False</td>\n",
       "      <td>False</td>\n",
       "    </tr>\n",
       "  </tbody>\n",
       "</table>\n",
       "<p>3 rows × 37 columns</p>\n",
       "</div>"
      ],
      "text/plain": [
       "       period  periodTimeInSeconds  isGoal     x     y  distanceToNet  \\\n",
       "78238     1.0                  172       0 -80.0 -22.0      24.166092   \n",
       "84024     2.0                  681       0 -59.0  19.0      36.359318   \n",
       "6443      1.0                  118       0  66.0  31.0      39.204592   \n",
       "\n",
       "       relativeAngleToNet  previousX  previousY  distanceFromPrevious  ...  \\\n",
       "78238          -65.556045       56.0       30.0                145.60  ...   \n",
       "84024           31.504267      -44.0      -38.0                 58.94  ...   \n",
       "6443            11.239284      -69.0       22.0                135.30  ...   \n",
       "\n",
       "       typeDeTir_Wrist Shot  previousEventTypeId_BLOCKED_SHOT  \\\n",
       "78238                 False                             False   \n",
       "84024                  True                             False   \n",
       "6443                  False                             False   \n",
       "\n",
       "       previousEventTypeId_FACEOFF  previousEventTypeId_GIVEAWAY  \\\n",
       "78238                        False                         False   \n",
       "84024                        False                         False   \n",
       "6443                          True                         False   \n",
       "\n",
       "       previousEventTypeId_GOAL  previousEventTypeId_HIT  \\\n",
       "78238                     False                    False   \n",
       "84024                     False                    False   \n",
       "6443                      False                    False   \n",
       "\n",
       "       previousEventTypeId_MISSED_SHOT  previousEventTypeId_PENALTY  \\\n",
       "78238                            False                        False   \n",
       "84024                            False                        False   \n",
       "6443                             False                        False   \n",
       "\n",
       "       previousEventTypeId_SHOT  previousEventTypeId_TAKEAWAY  \n",
       "78238                      True                         False  \n",
       "84024                     False                          True  \n",
       "6443                      False                         False  \n",
       "\n",
       "[3 rows x 37 columns]"
      ]
     },
     "execution_count": 46,
     "metadata": {},
     "output_type": "execute_result"
    }
   ],
   "source": [
    "train_data_2_correct.sample(3)"
   ]
  },
  {
   "cell_type": "code",
   "execution_count": 65,
   "metadata": {},
   "outputs": [],
   "source": [
    "from sklearn.metrics import roc_curve, auc\n",
    "import matplotlib.pyplot as plt"
   ]
  },
  {
   "cell_type": "code",
   "execution_count": 71,
   "metadata": {},
   "outputs": [
    {
     "data": {
      "image/png": "[encoded data removed]",
      "text/plain": [
       "<Figure size 800x600 with 1 Axes>"
      ]
     },
     "metadata": {},
     "output_type": "display_data"
    }
   ],
   "source": [
    "\n",
    "plot_roc_auc([rf], [X_valid], [y_valid], [\"random_forest\"])"
   ]
  },
  {
   "cell_type": "code",
   "execution_count": 130,
   "metadata": {},
   "outputs": [],
   "source": [
    "experience_comet = True"
   ]
  },
  {
   "cell_type": "code",
   "execution_count": 50,
   "metadata": {},
   "outputs": [
    {
     "data": {
      "image/png": "[encoded data removed]",
      "text/plain": [
       "<Figure size 800x600 with 1 Axes>"
      ]
     },
     "metadata": {},
     "output_type": "display_data"
    },
    {
     "name": "stdout",
     "output_type": "stream",
     "text": [
      "Accuracy: 0.9091139454345806\n",
      "Accuracy pour la classe 0 : 0.9989218328840971\n",
      "Accuracy pour la classe 1 : 0.014444444444444444\n"
     ]
    }
   ],
   "source": [
    "# Initialisation de l'expérience Comet ML\n",
    "if experience_comet:\n",
    "    exp_rf = Experiment(\n",
    "        api_key=os.environ.get(\"COMET_API_KEY\"), \n",
    "        project_name='milestone2', \n",
    "        workspace='ift6758-a02'\n",
    "    )\n",
    "    exp_rf.set_name(\"Modèle Forêt aléatoire original\")\n",
    "\n",
    "# on garde que les caractéristique qu'on veut étudier ici\n",
    "X_train_select = train_data_2_correct.drop('isGoal', axis=1)\n",
    "y_train_select = train_data_2_correct['isGoal']\n",
    "\n",
    "# split l'ensemble de données en ensembles d'entraînement et de validation\n",
    "X_train, X_valid, y_train, y_valid = train_test_split(X_train_select, y_train_select, test_size=0.2, random_state=42)\n",
    "\n",
    "\n",
    "# Initialisation de la forêt aléatoire\n",
    "rf = RandomForestClassifier(\n",
    "    random_state=42\n",
    ")\n",
    "\n",
    "# Entraîenement\n",
    "rf.fit(X_train, y_train)\n",
    "\n",
    "# prédictions sur l'ensemble de validation\n",
    "y_pred_rf = rf.predict(X_valid)\n",
    "\n",
    "\n",
    "# Calcul de l'accuracy et de la matrice de confusion\n",
    "accuracy_rf = accuracy_score(y_valid, y_pred_rf)\n",
    "conf_matrix_rf = confusion_matrix(y_valid, y_pred_rf)\n",
    "\n",
    "# Visualisation de la matrice de confusion\n",
    "plt.figure(figsize=(8, 6))\n",
    "sns.heatmap(conf_matrix_rf, annot=True, fmt='d', cmap='Blues', cbar=False)\n",
    "plt.xlabel('Predicted')\n",
    "plt.ylabel('Actual')\n",
    "plt.title('Matrice de confusion forêt aléatoire')\n",
    "plt.show()\n",
    "\n",
    "# Calcul des accuracies par classe\n",
    "accuracy_class_0_rf = (y_pred_rf[y_valid.values == 0] == 0).sum() / (y_valid.values == 0).sum()\n",
    "accuracy_class_1_rf = (y_pred_rf[y_valid.values == 1] == 1).sum() / (y_valid.values == 1).sum()\n",
    "\n",
    "print(f\"Accuracy: {accuracy_rf}\")\n",
    "print(f\"Accuracy pour la classe 0 : {accuracy_class_0_rf}\")\n",
    "print(f\"Accuracy pour la classe 1 : {accuracy_class_1_rf}\")\n",
    "\n",
    "hyperparams_rf = {\n",
    "        \"bootstrap\": rf.bootstrap,\n",
    "        \"criterion\": rf.criterion,\n",
    "        \"max_depth\": rf.max_depth,\n",
    "        \"max_features\": rf.max_features,\n",
    "        \"min_samples_leaf\": rf.min_samples_leaf,\n",
    "        \"min_samples_split\": rf.min_samples_split,\n",
    "        \"n_estimators\": rf.n_estimators,\n",
    "        \"random_state\": rf.random_state\n",
    "    }\n",
    "\n",
    "model = rf\n",
    "if experience_comet:\n",
    "    # Créer le répertoire 'models' s'il n'existe pas\n",
    "    if not os.path.exists('models'):\n",
    "        os.makedirs('models')\n",
    "\n",
    "    pickle.dump(model, open(\"models/random_forest_origin.pkl\", \"wb\"))\n",
    "\n",
    "    # Enregistrement des métriques\n",
    "    exp_rf.log_model(\"Modèle Forêt aléatoire original\", \"models/random_forest_origin.pkl\")\n",
    "    exp_rf.log_metric(\"accuracy\", accuracy_rf)\n",
    "    exp_rf.log_metric(\"accuracy_class_0\", accuracy_class_0_rf)\n",
    "    exp_rf.log_metric(\"accuracy_class_1\", accuracy_class_1_rf)\n",
    "    exp_rf.log_confusion_matrix(y_true=y_valid, y_predicted=y_pred_rf, title=\"Matrice de confusion : forêt aléatoire\")\n",
    "    exp_rf.log_parameters(hyperparams_rf)\n",
    "    exp_rf.add_tag(\"random_forest\")\n",
    "    \n",
    "    \n",
    "    # Fermeture de l'expérience Comet ML\n",
    "    exp_rf.end()"
   ]
  },
  {
   "cell_type": "code",
   "execution_count": 49,
   "metadata": {},
   "outputs": [
    {
     "data": {
      "image/png": "[encoded data removed]",
      "text/plain": [
       "<Figure size 800x600 with 1 Axes>"
      ]
     },
     "metadata": {},
     "output_type": "display_data"
    },
    {
     "name": "stdout",
     "output_type": "stream",
     "text": [
      "Accuracy: 0.9093166652588901\n",
      "Accuracy pour la classe 0 : 0.9997769309415373\n",
      "Accuracy pour la classe 1 : 0.008148148148148147\n"
     ]
    }
   ],
   "source": [
    "# Initialisation de l'expérience Comet ML\n",
    "if experience_comet:\n",
    "    exp_rf = Experiment(\n",
    "        api_key=os.environ.get(\"COMET_API_KEY\"), \n",
    "        project_name='milestone2', \n",
    "        workspace='ift6758-a02'\n",
    "    )\n",
    "    exp_rf.set_name(\"Modèle Forêt aléatoire\")\n",
    "\n",
    "# on garde que les caractéristique qu'on veut étudier ici\n",
    "X_train_select = train_data_2_correct.drop('isGoal', axis=1)\n",
    "y_train_select = train_data_2_correct['isGoal']\n",
    "\n",
    "# split l'ensemble de données en ensembles d'entraînement et de validation\n",
    "X_train, X_valid, y_train, y_valid = train_test_split(X_train_select, y_train_select, test_size=0.2, random_state=42)\n",
    "\n",
    "\n",
    "# Initialisation de la forêt aléatoire\n",
    "rf = RandomForestClassifier(\n",
    "    bootstrap= False, \n",
    "    criterion= 'entropy', \n",
    "    max_depth= 15, \n",
    "    max_features= 'sqrt', \n",
    "    min_samples_leaf= 2, \n",
    "    min_samples_split= 5, \n",
    "    n_estimators=153,\n",
    "    random_state=42\n",
    ")\n",
    "\n",
    "# Entraîenement\n",
    "rf.fit(X_train, y_train)\n",
    "\n",
    "# prédictions sur l'ensemble de validation\n",
    "y_pred_rf = rf.predict(X_valid)\n",
    "\n",
    "\n",
    "# Calcul de l'accuracy et de la matrice de confusion\n",
    "accuracy_rf = accuracy_score(y_valid, y_pred_rf)\n",
    "conf_matrix_rf = confusion_matrix(y_valid, y_pred_rf)\n",
    "\n",
    "# Visualisation de la matrice de confusion\n",
    "plt.figure(figsize=(8, 6))\n",
    "sns.heatmap(conf_matrix_rf, annot=True, fmt='d', cmap='Blues', cbar=False)\n",
    "plt.xlabel('Predicted')\n",
    "plt.ylabel('Actual')\n",
    "plt.title('Matrice de confusion forêt aléatoire')\n",
    "plt.show()\n",
    "\n",
    "# Calcul des accuracies par classe\n",
    "accuracy_class_0_rf = (y_pred_rf[y_valid.values == 0] == 0).sum() / (y_valid.values == 0).sum()\n",
    "accuracy_class_1_rf = (y_pred_rf[y_valid.values == 1] == 1).sum() / (y_valid.values == 1).sum()\n",
    "\n",
    "print(f\"Accuracy: {accuracy_rf}\")\n",
    "print(f\"Accuracy pour la classe 0 : {accuracy_class_0_rf}\")\n",
    "print(f\"Accuracy pour la classe 1 : {accuracy_class_1_rf}\")\n",
    "\n",
    "hyperparams_rf = {\n",
    "        \"bootstrap\": rf.bootstrap,\n",
    "        \"criterion\": rf.criterion,\n",
    "        \"max_depth\": rf.max_depth,\n",
    "        \"max_features\": rf.max_features,\n",
    "        \"min_samples_leaf\": rf.min_samples_leaf,\n",
    "        \"min_samples_split\": rf.min_samples_split,\n",
    "        \"n_estimators\": rf.n_estimators,\n",
    "        \"random_state\": rf.random_state\n",
    "    }\n",
    "\n",
    "model = rf\n",
    "if experience_comet:\n",
    "    # Créer le répertoire 'models' s'il n'existe pas\n",
    "    if not os.path.exists('models'):\n",
    "        os.makedirs('models')\n",
    "\n",
    "    pickle.dump(model, open(\"models/random_forest.pkl\", \"wb\"))\n",
    "\n",
    "    # Enregistrement des métriques\n",
    "    exp_rf.log_model(\"Modèle Forêt aléatoire\", \"models/random_forest.pkl\")\n",
    "    exp_rf.log_metric(\"accuracy\", accuracy_rf)\n",
    "    exp_rf.log_metric(\"accuracy_class_0\", accuracy_class_0_rf)\n",
    "    exp_rf.log_metric(\"accuracy_class_1\", accuracy_class_1_rf)\n",
    "    exp_rf.log_confusion_matrix(y_true=y_valid, y_predicted=y_pred_rf, title=\"Matrice de confusion : forêt aléatoire\")\n",
    "    exp_rf.log_parameters(hyperparams_rf)\n",
    "    exp_rf.add_tag(\"random_forest\")\n",
    "    \n",
    "    \n",
    "    # Fermeture de l'expérience Comet ML\n",
    "    exp_rf.end()"
   ]
  },
  {
   "cell_type": "code",
   "execution_count": null,
   "metadata": {},
   "outputs": [],
   "source": [
    "experience_comet = True "
   ]
  },
  {
   "cell_type": "code",
   "execution_count": 51,
   "metadata": {},
   "outputs": [
    {
     "data": {
      "image/png": "[encoded data removed]",
      "text/plain": [
       "<Figure size 800x600 with 1 Axes>"
      ]
     },
     "metadata": {},
     "output_type": "display_data"
    },
    {
     "name": "stdout",
     "output_type": "stream",
     "text": [
      "Accuracy (MLP): 0.9086240391924993\n",
      "Accuracy pour la classe 0 : 0.9984756947671717\n",
      "Accuracy pour la classe 1 : 0.013518518518518518\n"
     ]
    }
   ],
   "source": [
    "from sklearn.neural_network import MLPClassifier\n",
    "\n",
    "if experience_comet:\n",
    "    exp_mlp = Experiment(\n",
    "        api_key=os.environ.get(\"COMET_API_KEY\"), \n",
    "        project_name='milestone2', \n",
    "        workspace='ift6758-a02'\n",
    "    )\n",
    "    exp_mlp.set_name(\"Modèle MLPClassifier\")\n",
    "\n",
    "# Entraînement du modèle MLP\n",
    "mlp = MLPClassifier(hidden_layer_sizes=(128, 64), \n",
    "                    activation='relu', \n",
    "                    solver='adam', \n",
    "                    max_iter=300, \n",
    "                    random_state=42)\n",
    "mlp.fit(X_train, y_train)\n",
    "\n",
    "# Prédictions et évaluation du modèle\n",
    "y_pred_mlp = mlp.predict(X_valid)\n",
    "accuracy_mlp = accuracy_score(y_valid, y_pred_mlp)\n",
    "conf_matrix_mlp = confusion_matrix(y_valid, y_pred_mlp)\n",
    "# Calcul des accuracies par classe\n",
    "accuracy_class_0_mlp = (y_pred_mlp[y_valid.values == 0] == 0).sum() / (y_valid.values == 0).sum()\n",
    "accuracy_class_1_mlp = (y_pred_mlp[y_valid.values == 1] == 1).sum() / (y_valid.values == 1).sum()\n",
    "\n",
    "\n",
    "# Affichage de la matrice de confusion\n",
    "plt.figure(figsize=(8, 6))\n",
    "sns.heatmap(conf_matrix_mlp, annot=True, fmt='d', cmap='Blues', cbar=False)\n",
    "plt.xlabel('Predicted')\n",
    "plt.ylabel('Actual')\n",
    "plt.title('Matrice de confusion MLP')\n",
    "plt.show()\n",
    "\n",
    "print(f\"Accuracy (MLP): {accuracy_mlp}\")\n",
    "print(f\"Accuracy pour la classe 0 : {accuracy_class_0_mlp}\")\n",
    "print(f\"Accuracy pour la classe 1 : {accuracy_class_1_mlp}\")\n",
    "print(conf_matrix_mlp)\n",
    "\n",
    "models=mlp\n",
    "if experience_comet:\n",
    "    # Enregistrement des hyperparamètres\n",
    "    hyperparams_mlp = {\n",
    "        \"hidden_layer_sizes\": mlp.hidden_layer_sizes,\n",
    "        \"activation\": mlp.activation,\n",
    "        \"solver\": mlp.solver,\n",
    "        \"max_iter\": mlp.max_iter,\n",
    "        \"random_state\": mlp.random_state\n",
    "    }\n",
    "    exp_mlp.log_parameters(hyperparams_mlp)\n",
    "    exp_mlp.log_metric(\"accuracy\", accuracy_mlp)\n",
    "    exp_mlp.log_metric(\"accuracy_class_0\", accuracy_class_0_mlp)\n",
    "    exp_mlp.log_metric(\"accuracy_class_1\", accuracy_class_1_mlp)\n",
    "    exp_mlp.log_confusion_matrix(y_true=y_valid, y_predicted=y_pred_mlp, title=\"Matrice de confusion MLP\")\n",
    "\n",
    "    # Sauvegarde du modèle\n",
    "    if not os.path.exists('models'):\n",
    "        os.makedirs('models')\n",
    "    with open(\"models/mlp_model.pkl\", \"wb\") as f:\n",
    "        pickle.dump(mlp, f)\n",
    "    exp_mlp.log_model(\"Modèle MLPClassifier\", \"models/mlp_model.pkl\")\n",
    "    exp_mlp.add_tag(\"Neural_network\")\n",
    "    # Fermeture de l'expérience Comet ML\n",
    "    exp_mlp.end()"
   ]
  },
  {
   "cell_type": "code",
   "execution_count": 52,
   "metadata": {},
   "outputs": [
    {
     "data": {
      "image/png": "[encoded data removed]",
      "text/plain": [
       "<Figure size 800x600 with 1 Axes>"
      ]
     },
     "metadata": {},
     "output_type": "display_data"
    },
    {
     "name": "stdout",
     "output_type": "stream",
     "text": [
      "Accuracy (MLP): 0.90835374609342\n",
      "Accuracy pour la classe 0 : 0.9986801747374291\n",
      "Accuracy pour la classe 1 : 0.008518518518518519\n"
     ]
    }
   ],
   "source": [
    "from sklearn.neural_network import MLPClassifier\n",
    "\n",
    "if experience_comet:\n",
    "    exp_mlp = Experiment(\n",
    "        api_key=os.environ.get(\"COMET_API_KEY\"), \n",
    "        project_name='milestone2', \n",
    "        workspace='ift6758-a02'\n",
    "    )\n",
    "    exp_mlp.set_name(\"Modèle MLPClassifier - Meilleurs hyperparametre selon grille\")\n",
    "\n",
    "#Meilleurs hyperparamètres trouvés: {'solver': 'adam', 'max_iter': 200, 'hidden_layer_sizes': (64, 32), 'activation': 'relu'}\n",
    "# Entraînement du modèle MLP\n",
    "mlp = MLPClassifier(hidden_layer_sizes=(64, 32), activation='relu', solver='adam', \n",
    "                    max_iter=200, random_state=42)\n",
    "mlp.fit(X_train, y_train)\n",
    "\n",
    "# Prédictions et évaluation du modèle\n",
    "y_pred_mlp = mlp.predict(X_valid)\n",
    "accuracy_mlp = accuracy_score(y_valid, y_pred_mlp)\n",
    "conf_matrix_mlp = confusion_matrix(y_valid, y_pred_mlp)\n",
    "# Calcul des accuracies par classe\n",
    "accuracy_class_0_mlp = (y_pred_mlp[y_valid.values == 0] == 0).sum() / (y_valid.values == 0).sum()\n",
    "accuracy_class_1_mlp = (y_pred_mlp[y_valid.values == 1] == 1).sum() / (y_valid.values == 1).sum()\n",
    "\n",
    "\n",
    "# Affichage de la matrice de confusion\n",
    "plt.figure(figsize=(8, 6))\n",
    "sns.heatmap(conf_matrix_mlp, annot=True, fmt='d', cmap='Blues', cbar=False)\n",
    "plt.xlabel('Predicted')\n",
    "plt.ylabel('Actual')\n",
    "plt.title('Matrice de confusion MLP')\n",
    "plt.show()\n",
    "\n",
    "print(f\"Accuracy (MLP): {accuracy_mlp}\")\n",
    "print(f\"Accuracy pour la classe 0 : {accuracy_class_0_mlp}\")\n",
    "print(f\"Accuracy pour la classe 1 : {accuracy_class_1_mlp}\")\n",
    "\n",
    "models=mlp\n",
    "if experience_comet:\n",
    "    # Enregistrement des hyperparamètres\n",
    "    hyperparams_mlp = {\n",
    "        \"hidden_layer_sizes\": mlp.hidden_layer_sizes,\n",
    "        \"activation\": mlp.activation,\n",
    "        \"solver\": mlp.solver,\n",
    "        \"max_iter\": mlp.max_iter,\n",
    "        \"random_state\": mlp.random_state\n",
    "    }\n",
    "    exp_mlp.log_parameters(hyperparams_mlp)\n",
    "    exp_mlp.log_metric(\"accuracy\", accuracy_mlp)\n",
    "    exp_mlp.log_metric(\"accuracy_class_0\", accuracy_class_0_mlp)\n",
    "    exp_mlp.log_metric(\"accuracy_class_1\", accuracy_class_1_mlp)\n",
    "    exp_mlp.log_confusion_matrix(y_true=y_valid, y_predicted=y_pred_mlp, title=\"Matrice de confusion MLP\")\n",
    "\n",
    "    # Sauvegarde du modèle\n",
    "    if not os.path.exists('models'):\n",
    "        os.makedirs('models')\n",
    "    with open(\"models/mlp_model_best_param.pkl\", \"wb\") as f:\n",
    "        pickle.dump(mlp, f)\n",
    "    exp_mlp.log_model(\"Modèle MLPClassifier_best_param\", \"models/mlp_model_best_param.pkl\")\n",
    "    exp_mlp.add_tag(\"Neural_network\")\n",
    "    # Fermeture de l'expérience Comet ML\n",
    "    exp_mlp.end()\n"
   ]
  },
  {
   "cell_type": "code",
   "execution_count": 166,
   "metadata": {},
   "outputs": [
    {
     "name": "stderr",
     "output_type": "stream",
     "text": [
      "/Users/canelle/anaconda3/envs/ift6758-conda-env/lib/python3.11/site-packages/sklearn/neural_network/_multilayer_perceptron.py:1102: DataConversionWarning: A column-vector y was passed when a 1d array was expected. Please change the shape of y to (n_samples, ), for example using ravel().\n",
      "  y = column_or_1d(y, warn=True)\n",
      "/Users/canelle/anaconda3/envs/ift6758-conda-env/lib/python3.11/site-packages/sklearn/neural_network/_multilayer_perceptron.py:1102: DataConversionWarning: A column-vector y was passed when a 1d array was expected. Please change the shape of y to (n_samples, ), for example using ravel().\n",
      "  y = column_or_1d(y, warn=True)\n",
      "/Users/canelle/anaconda3/envs/ift6758-conda-env/lib/python3.11/site-packages/sklearn/neural_network/_multilayer_perceptron.py:1102: DataConversionWarning: A column-vector y was passed when a 1d array was expected. Please change the shape of y to (n_samples, ), for example using ravel().\n",
      "  y = column_or_1d(y, warn=True)\n",
      "/Users/canelle/anaconda3/envs/ift6758-conda-env/lib/python3.11/site-packages/sklearn/neural_network/_multilayer_perceptron.py:1102: DataConversionWarning: A column-vector y was passed when a 1d array was expected. Please change the shape of y to (n_samples, ), for example using ravel().\n",
      "  y = column_or_1d(y, warn=True)\n",
      "/Users/canelle/anaconda3/envs/ift6758-conda-env/lib/python3.11/site-packages/sklearn/neural_network/_multilayer_perceptron.py:1102: DataConversionWarning: A column-vector y was passed when a 1d array was expected. Please change the shape of y to (n_samples, ), for example using ravel().\n",
      "  y = column_or_1d(y, warn=True)\n",
      "/Users/canelle/anaconda3/envs/ift6758-conda-env/lib/python3.11/site-packages/sklearn/neural_network/_multilayer_perceptron.py:1102: DataConversionWarning: A column-vector y was passed when a 1d array was expected. Please change the shape of y to (n_samples, ), for example using ravel().\n",
      "  y = column_or_1d(y, warn=True)\n",
      "/Users/canelle/anaconda3/envs/ift6758-conda-env/lib/python3.11/site-packages/sklearn/neural_network/_multilayer_perceptron.py:1102: DataConversionWarning: A column-vector y was passed when a 1d array was expected. Please change the shape of y to (n_samples, ), for example using ravel().\n",
      "  y = column_or_1d(y, warn=True)\n",
      "/Users/canelle/anaconda3/envs/ift6758-conda-env/lib/python3.11/site-packages/sklearn/neural_network/_multilayer_perceptron.py:1102: DataConversionWarning: A column-vector y was passed when a 1d array was expected. Please change the shape of y to (n_samples, ), for example using ravel().\n",
      "  y = column_or_1d(y, warn=True)\n",
      "/Users/canelle/anaconda3/envs/ift6758-conda-env/lib/python3.11/site-packages/sklearn/neural_network/_multilayer_perceptron.py:1102: DataConversionWarning: A column-vector y was passed when a 1d array was expected. Please change the shape of y to (n_samples, ), for example using ravel().\n",
      "  y = column_or_1d(y, warn=True)\n",
      "/Users/canelle/anaconda3/envs/ift6758-conda-env/lib/python3.11/site-packages/sklearn/neural_network/_multilayer_perceptron.py:1102: DataConversionWarning: A column-vector y was passed when a 1d array was expected. Please change the shape of y to (n_samples, ), for example using ravel().\n",
      "  y = column_or_1d(y, warn=True)\n",
      "/Users/canelle/anaconda3/envs/ift6758-conda-env/lib/python3.11/site-packages/sklearn/neural_network/_multilayer_perceptron.py:1102: DataConversionWarning: A column-vector y was passed when a 1d array was expected. Please change the shape of y to (n_samples, ), for example using ravel().\n",
      "  y = column_or_1d(y, warn=True)\n",
      "/Users/canelle/anaconda3/envs/ift6758-conda-env/lib/python3.11/site-packages/sklearn/neural_network/_multilayer_perceptron.py:1102: DataConversionWarning: A column-vector y was passed when a 1d array was expected. Please change the shape of y to (n_samples, ), for example using ravel().\n",
      "  y = column_or_1d(y, warn=True)\n",
      "/Users/canelle/anaconda3/envs/ift6758-conda-env/lib/python3.11/site-packages/sklearn/neural_network/_multilayer_perceptron.py:1102: DataConversionWarning: A column-vector y was passed when a 1d array was expected. Please change the shape of y to (n_samples, ), for example using ravel().\n",
      "  y = column_or_1d(y, warn=True)\n",
      "/Users/canelle/anaconda3/envs/ift6758-conda-env/lib/python3.11/site-packages/sklearn/neural_network/_multilayer_perceptron.py:1102: DataConversionWarning: A column-vector y was passed when a 1d array was expected. Please change the shape of y to (n_samples, ), for example using ravel().\n",
      "  y = column_or_1d(y, warn=True)\n",
      "/Users/canelle/anaconda3/envs/ift6758-conda-env/lib/python3.11/site-packages/sklearn/neural_network/_multilayer_perceptron.py:1102: DataConversionWarning: A column-vector y was passed when a 1d array was expected. Please change the shape of y to (n_samples, ), for example using ravel().\n",
      "  y = column_or_1d(y, warn=True)\n",
      "/Users/canelle/anaconda3/envs/ift6758-conda-env/lib/python3.11/site-packages/sklearn/neural_network/_multilayer_perceptron.py:1102: DataConversionWarning: A column-vector y was passed when a 1d array was expected. Please change the shape of y to (n_samples, ), for example using ravel().\n",
      "  y = column_or_1d(y, warn=True)\n",
      "/Users/canelle/anaconda3/envs/ift6758-conda-env/lib/python3.11/site-packages/sklearn/neural_network/_multilayer_perceptron.py:1102: DataConversionWarning: A column-vector y was passed when a 1d array was expected. Please change the shape of y to (n_samples, ), for example using ravel().\n",
      "  y = column_or_1d(y, warn=True)\n",
      "/Users/canelle/anaconda3/envs/ift6758-conda-env/lib/python3.11/site-packages/sklearn/neural_network/_multilayer_perceptron.py:1102: DataConversionWarning: A column-vector y was passed when a 1d array was expected. Please change the shape of y to (n_samples, ), for example using ravel().\n",
      "  y = column_or_1d(y, warn=True)\n",
      "/Users/canelle/anaconda3/envs/ift6758-conda-env/lib/python3.11/site-packages/sklearn/neural_network/_multilayer_perceptron.py:1102: DataConversionWarning: A column-vector y was passed when a 1d array was expected. Please change the shape of y to (n_samples, ), for example using ravel().\n",
      "  y = column_or_1d(y, warn=True)\n",
      "/Users/canelle/anaconda3/envs/ift6758-conda-env/lib/python3.11/site-packages/sklearn/neural_network/_multilayer_perceptron.py:1102: DataConversionWarning: A column-vector y was passed when a 1d array was expected. Please change the shape of y to (n_samples, ), for example using ravel().\n",
      "  y = column_or_1d(y, warn=True)\n",
      "/Users/canelle/anaconda3/envs/ift6758-conda-env/lib/python3.11/site-packages/sklearn/neural_network/_multilayer_perceptron.py:1102: DataConversionWarning: A column-vector y was passed when a 1d array was expected. Please change the shape of y to (n_samples, ), for example using ravel().\n",
      "  y = column_or_1d(y, warn=True)\n",
      "/Users/canelle/anaconda3/envs/ift6758-conda-env/lib/python3.11/site-packages/sklearn/neural_network/_multilayer_perceptron.py:1102: DataConversionWarning: A column-vector y was passed when a 1d array was expected. Please change the shape of y to (n_samples, ), for example using ravel().\n",
      "  y = column_or_1d(y, warn=True)\n",
      "/Users/canelle/anaconda3/envs/ift6758-conda-env/lib/python3.11/site-packages/sklearn/neural_network/_multilayer_perceptron.py:1102: DataConversionWarning: A column-vector y was passed when a 1d array was expected. Please change the shape of y to (n_samples, ), for example using ravel().\n",
      "  y = column_or_1d(y, warn=True)\n",
      "/Users/canelle/anaconda3/envs/ift6758-conda-env/lib/python3.11/site-packages/sklearn/neural_network/_multilayer_perceptron.py:1102: DataConversionWarning: A column-vector y was passed when a 1d array was expected. Please change the shape of y to (n_samples, ), for example using ravel().\n",
      "  y = column_or_1d(y, warn=True)\n",
      "/Users/canelle/anaconda3/envs/ift6758-conda-env/lib/python3.11/site-packages/sklearn/neural_network/_multilayer_perceptron.py:1102: DataConversionWarning: A column-vector y was passed when a 1d array was expected. Please change the shape of y to (n_samples, ), for example using ravel().\n",
      "  y = column_or_1d(y, warn=True)\n",
      "/Users/canelle/anaconda3/envs/ift6758-conda-env/lib/python3.11/site-packages/sklearn/neural_network/_multilayer_perceptron.py:1102: DataConversionWarning: A column-vector y was passed when a 1d array was expected. Please change the shape of y to (n_samples, ), for example using ravel().\n",
      "  y = column_or_1d(y, warn=True)\n",
      "/Users/canelle/anaconda3/envs/ift6758-conda-env/lib/python3.11/site-packages/sklearn/neural_network/_multilayer_perceptron.py:1102: DataConversionWarning: A column-vector y was passed when a 1d array was expected. Please change the shape of y to (n_samples, ), for example using ravel().\n",
      "  y = column_or_1d(y, warn=True)\n",
      "/Users/canelle/anaconda3/envs/ift6758-conda-env/lib/python3.11/site-packages/sklearn/neural_network/_multilayer_perceptron.py:1102: DataConversionWarning: A column-vector y was passed when a 1d array was expected. Please change the shape of y to (n_samples, ), for example using ravel().\n",
      "  y = column_or_1d(y, warn=True)\n",
      "/Users/canelle/anaconda3/envs/ift6758-conda-env/lib/python3.11/site-packages/sklearn/neural_network/_multilayer_perceptron.py:1102: DataConversionWarning: A column-vector y was passed when a 1d array was expected. Please change the shape of y to (n_samples, ), for example using ravel().\n",
      "  y = column_or_1d(y, warn=True)\n",
      "/Users/canelle/anaconda3/envs/ift6758-conda-env/lib/python3.11/site-packages/sklearn/neural_network/_multilayer_perceptron.py:1102: DataConversionWarning: A column-vector y was passed when a 1d array was expected. Please change the shape of y to (n_samples, ), for example using ravel().\n",
      "  y = column_or_1d(y, warn=True)\n",
      "/Users/canelle/anaconda3/envs/ift6758-conda-env/lib/python3.11/site-packages/sklearn/neural_network/_multilayer_perceptron.py:1102: DataConversionWarning: A column-vector y was passed when a 1d array was expected. Please change the shape of y to (n_samples, ), for example using ravel().\n",
      "  y = column_or_1d(y, warn=True)\n"
     ]
    },
    {
     "name": "stdout",
     "output_type": "stream",
     "text": [
      "Meilleurs hyperparamètres trouvés: {'solver': 'adam', 'max_iter': 200, 'hidden_layer_sizes': (64, 32), 'activation': 'relu'}\n"
     ]
    }
   ],
   "source": [
    "from sklearn.model_selection import RandomizedSearchCV\n",
    "# Définition de la grille d'hyperparamètres (sous forme de distributions si nécessaire)\n",
    "param_distributions = {\n",
    "    'hidden_layer_sizes': [(50,), (100,), (128, 64), (128, 128), (64, 32)],\n",
    "    'activation': ['tanh', 'relu'],\n",
    "    'solver': ['sgd', 'adam'],\n",
    "    'max_iter': [100, 200, 300]\n",
    "}\n",
    "\n",
    "# Initialisation du MLPClassifier\n",
    "mlp = MLPClassifier(random_state=42)\n",
    "\n",
    "# Création d'un scorer personnalisé basé sur l'accuracy\n",
    "accuracy_scorer = make_scorer(accuracy_score)\n",
    "\n",
    "# Initialisation de la recherche aléatoire avec validation croisée\n",
    "random_search = RandomizedSearchCV(\n",
    "    mlp, \n",
    "    param_distributions, \n",
    "    n_iter=10,\n",
    "    scoring='accuracy', \n",
    "    cv=3, \n",
    "    random_state=42\n",
    ")\n",
    "\n",
    "# Entraînement de RandomizedSearchCV\n",
    "random_search.fit(X_train, y_train)\n",
    "\n",
    "# Affichage des meilleurs hyperparamètres\n",
    "best_params = random_search.best_params_\n",
    "print(\"Meilleurs hyperparamètres trouvés:\", best_params)\n",
    "\n"
   ]
  },
  {
   "cell_type": "code",
   "execution_count": 167,
   "metadata": {},
   "outputs": [],
   "source": [
    "#Meilleurs hyperparamètres trouvés: {'solver': 'adam', 'max_iter': 200, 'hidden_layer_sizes': (64, 32), 'activation': 'relu'}"
   ]
  },
  {
   "cell_type": "code",
   "execution_count": null,
   "metadata": {},
   "outputs": [],
   "source": [
    "#from sklearn.metrics import classification_report\n",
    "#print(classification_report(y_valid, y_pred))"
   ]
  },
  {
   "cell_type": "code",
   "execution_count": 118,
   "metadata": {},
   "outputs": [
    {
     "data": {
      "text/plain": [
       "array([[53792,     3],\n",
       "       [ 5391,     9]])"
      ]
     },
     "execution_count": 118,
     "metadata": {},
     "output_type": "execute_result"
    }
   ],
   "source": [
    "conf_matrix_mlp"
   ]
  },
  {
   "cell_type": "code",
   "execution_count": 81,
   "metadata": {},
   "outputs": [],
   "source": [
    "import skopt\n"
   ]
  },
  {
   "cell_type": "code",
   "execution_count": 119,
   "metadata": {},
   "outputs": [
    {
     "name": "stdout",
     "output_type": "stream",
     "text": [
      "Meilleurs hyperparamètres :  {'bootstrap': False, 'criterion': 'entropy', 'max_depth': 15, 'max_features': 'sqrt', 'min_samples_leaf': 2, 'min_samples_split': 5, 'n_estimators': 153}\n",
      "Meilleure performance (AUC) :  0.7485080336590181\n"
     ]
    }
   ],
   "source": [
    "from sklearn.model_selection import RandomizedSearchCV\n",
    "from sklearn.ensemble import RandomForestClassifier\n",
    "from scipy.stats import randint as sp_randint\n",
    "from scipy.stats import uniform as sp_uniform\n",
    "\n",
    "# Définir l'espace des hyperparamètres\n",
    "param_dist = {\n",
    "    'criterion': [\"gini\", \"entropy\"],\n",
    "    'bootstrap': [True, False],\n",
    "    'max_depth': sp_randint(10, 100),\n",
    "    'max_features': ['log2', 'sqrt'],\n",
    "    'min_samples_leaf': sp_randint(1, 4),\n",
    "    'min_samples_split': sp_randint(2, 10),\n",
    "    'n_estimators': sp_randint(100, 200)\n",
    "}\n",
    "\n",
    "# Initialiser le modèle\n",
    "model = RandomForestClassifier(random_state=42)\n",
    "\n",
    "# Initialiser RandomizedSearchCV\n",
    "random_search = RandomizedSearchCV(model, param_distributions=param_dist, \n",
    "                                   n_iter=32, scoring='roc_auc', cv=5, \n",
    "                                   random_state=42)\n",
    "\n",
    "# Entraîner RandomizedSearchCV\n",
    "random_search.fit(X_train, y_train)\n",
    "\n",
    "# Afficher les résultats\n",
    "print(\"Meilleurs hyperparamètres : \", random_search.best_params_)\n",
    "print(\"Meilleure performance (AUC) : \", random_search.best_score_)\n"
   ]
  },
  {
   "cell_type": "code",
   "execution_count": 120,
   "metadata": {},
   "outputs": [],
   "source": [
    "# Meilleurs hyperparamètres :  {'bootstrap': False, 'criterion': 'entropy', 'max_depth': 15, 'max_features': 'sqrt', 'min_samples_leaf': 2, 'min_samples_split': 5, 'n_estimators': 153}\n",
    "# Meilleure performance (AUC) :  0.7485080336590181"
   ]
  },
  {
   "cell_type": "code",
   "execution_count": null,
   "metadata": {},
   "outputs": [],
   "source": []
  },
  {
   "cell_type": "code",
   "execution_count": null,
   "metadata": {},
   "outputs": [],
   "source": []
  },
  {
   "cell_type": "code",
   "execution_count": null,
   "metadata": {},
   "outputs": [],
   "source": []
  }
 ],
 "metadata": {
  "kernelspec": {
   "display_name": "Python 3",
   "language": "python",
   "name": "python3"
  },
  "language_info": {
   "codemirror_mode": {
    "name": "ipython",
    "version": 3
   },
   "file_extension": ".py",
   "mimetype": "text/x-python",
   "name": "python",
   "nbconvert_exporter": "python",
   "pygments_lexer": "ipython3",
   "version": "3.9.13"
  },
  "orig_nbformat": 4
 },
 "nbformat": 4,
 "nbformat_minor": 2
}
